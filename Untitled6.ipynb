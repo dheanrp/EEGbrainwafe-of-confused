{
  "nbformat": 4,
  "nbformat_minor": 0,
  "metadata": {
    "colab": {
      "name": "Untitled6.ipynb",
      "version": "0.3.2",
      "provenance": [],
      "collapsed_sections": []
    },
    "kernelspec": {
      "name": "python3",
      "display_name": "Python 3"
    },
    "accelerator": "GPU"
  },
  "cells": [
    {
      "cell_type": "markdown",
      "metadata": {
        "id": "Y0TOjTLTKczt",
        "colab_type": "text"
      },
      "source": [
        "# Load Data and Library"
      ]
    },
    {
      "cell_type": "markdown",
      "metadata": {
        "id": "9VBJKCmN-Mob",
        "colab_type": "text"
      },
      "source": [
        "The code I adopted from this [link](https://www.kaggle.com/wanghaohan/confused-eeg/discussion/39307)."
      ]
    },
    {
      "cell_type": "code",
      "metadata": {
        "id": "ZvapUYMjJPR-",
        "colab_type": "code",
        "outputId": "54ec2abc-1f82-4442-cdb9-60535ed611f2",
        "colab": {
          "base_uri": "https://localhost:8080/",
          "height": 128
        }
      },
      "source": [
        "from google.colab import drive\n",
        "drive.mount('/content/gdrive')"
      ],
      "execution_count": 0,
      "outputs": [
        {
          "output_type": "stream",
          "text": [
            "Go to this URL in a browser: https://accounts.google.com/o/oauth2/auth?client_id=947318989803-6bn6qk8qdgf4n4g3pfee6491hc0brc4i.apps.googleusercontent.com&redirect_uri=urn%3Aietf%3Awg%3Aoauth%3A2.0%3Aoob&scope=email%20https%3A%2F%2Fwww.googleapis.com%2Fauth%2Fdocs.test%20https%3A%2F%2Fwww.googleapis.com%2Fauth%2Fdrive%20https%3A%2F%2Fwww.googleapis.com%2Fauth%2Fdrive.photos.readonly%20https%3A%2F%2Fwww.googleapis.com%2Fauth%2Fpeopleapi.readonly&response_type=code\n",
            "\n",
            "Enter your authorization code:\n",
            "··········\n",
            "Mounted at /content/gdrive\n"
          ],
          "name": "stdout"
        }
      ]
    },
    {
      "cell_type": "code",
      "metadata": {
        "id": "88V2ODjdKOcz",
        "colab_type": "code",
        "colab": {}
      },
      "source": [
        "%matplotlib inline\n",
        "\n",
        "import numpy as np\n",
        "import pandas as pd\n",
        "import matplotlib.pyplot as plt\n",
        "from sklearn.decomposition import PCA\n",
        "from sklearn.metrics import confusion_matrix\n",
        "from sklearn.model_selection import cross_validate\n",
        "import seaborn as sns\n",
        "\n",
        "sns.set_context('talk')\n",
        "data = pd.read_csv('../content/gdrive/My Drive/Colab Notebooks/datasets/EEG_data.csv')"
      ],
      "execution_count": 0,
      "outputs": []
    },
    {
      "cell_type": "markdown",
      "metadata": {
        "id": "rZVEXLejKocV",
        "colab_type": "text"
      },
      "source": [
        "Checking the dataset"
      ]
    },
    {
      "cell_type": "code",
      "metadata": {
        "id": "zmu4sy26KXyJ",
        "colab_type": "code",
        "outputId": "fea819f9-d06a-48f6-9a96-f0c9cc904faf",
        "colab": {
          "base_uri": "https://localhost:8080/",
          "height": 235
        }
      },
      "source": [
        "data.head()"
      ],
      "execution_count": 0,
      "outputs": [
        {
          "output_type": "execute_result",
          "data": {
            "text/html": [
              "<div>\n",
              "<style scoped>\n",
              "    .dataframe tbody tr th:only-of-type {\n",
              "        vertical-align: middle;\n",
              "    }\n",
              "\n",
              "    .dataframe tbody tr th {\n",
              "        vertical-align: top;\n",
              "    }\n",
              "\n",
              "    .dataframe thead th {\n",
              "        text-align: right;\n",
              "    }\n",
              "</style>\n",
              "<table border=\"1\" class=\"dataframe\">\n",
              "  <thead>\n",
              "    <tr style=\"text-align: right;\">\n",
              "      <th></th>\n",
              "      <th>SubjectID</th>\n",
              "      <th>VideoID</th>\n",
              "      <th>Attention</th>\n",
              "      <th>Mediation</th>\n",
              "      <th>Raw</th>\n",
              "      <th>Delta</th>\n",
              "      <th>Theta</th>\n",
              "      <th>Alpha1</th>\n",
              "      <th>Alpha2</th>\n",
              "      <th>Beta1</th>\n",
              "      <th>Beta2</th>\n",
              "      <th>Gamma1</th>\n",
              "      <th>Gamma2</th>\n",
              "      <th>predefinedlabel</th>\n",
              "      <th>user-definedlabeln</th>\n",
              "    </tr>\n",
              "  </thead>\n",
              "  <tbody>\n",
              "    <tr>\n",
              "      <th>0</th>\n",
              "      <td>0.0</td>\n",
              "      <td>0.0</td>\n",
              "      <td>56.0</td>\n",
              "      <td>43.0</td>\n",
              "      <td>278.0</td>\n",
              "      <td>301963.0</td>\n",
              "      <td>90612.0</td>\n",
              "      <td>33735.0</td>\n",
              "      <td>23991.0</td>\n",
              "      <td>27946.0</td>\n",
              "      <td>45097.0</td>\n",
              "      <td>33228.0</td>\n",
              "      <td>8293.0</td>\n",
              "      <td>0.0</td>\n",
              "      <td>0.0</td>\n",
              "    </tr>\n",
              "    <tr>\n",
              "      <th>1</th>\n",
              "      <td>0.0</td>\n",
              "      <td>0.0</td>\n",
              "      <td>40.0</td>\n",
              "      <td>35.0</td>\n",
              "      <td>-50.0</td>\n",
              "      <td>73787.0</td>\n",
              "      <td>28083.0</td>\n",
              "      <td>1439.0</td>\n",
              "      <td>2240.0</td>\n",
              "      <td>2746.0</td>\n",
              "      <td>3687.0</td>\n",
              "      <td>5293.0</td>\n",
              "      <td>2740.0</td>\n",
              "      <td>0.0</td>\n",
              "      <td>0.0</td>\n",
              "    </tr>\n",
              "    <tr>\n",
              "      <th>2</th>\n",
              "      <td>0.0</td>\n",
              "      <td>0.0</td>\n",
              "      <td>47.0</td>\n",
              "      <td>48.0</td>\n",
              "      <td>101.0</td>\n",
              "      <td>758353.0</td>\n",
              "      <td>383745.0</td>\n",
              "      <td>201999.0</td>\n",
              "      <td>62107.0</td>\n",
              "      <td>36293.0</td>\n",
              "      <td>130536.0</td>\n",
              "      <td>57243.0</td>\n",
              "      <td>25354.0</td>\n",
              "      <td>0.0</td>\n",
              "      <td>0.0</td>\n",
              "    </tr>\n",
              "    <tr>\n",
              "      <th>3</th>\n",
              "      <td>0.0</td>\n",
              "      <td>0.0</td>\n",
              "      <td>47.0</td>\n",
              "      <td>57.0</td>\n",
              "      <td>-5.0</td>\n",
              "      <td>2012240.0</td>\n",
              "      <td>129350.0</td>\n",
              "      <td>61236.0</td>\n",
              "      <td>17084.0</td>\n",
              "      <td>11488.0</td>\n",
              "      <td>62462.0</td>\n",
              "      <td>49960.0</td>\n",
              "      <td>33932.0</td>\n",
              "      <td>0.0</td>\n",
              "      <td>0.0</td>\n",
              "    </tr>\n",
              "    <tr>\n",
              "      <th>4</th>\n",
              "      <td>0.0</td>\n",
              "      <td>0.0</td>\n",
              "      <td>44.0</td>\n",
              "      <td>53.0</td>\n",
              "      <td>-8.0</td>\n",
              "      <td>1005145.0</td>\n",
              "      <td>354328.0</td>\n",
              "      <td>37102.0</td>\n",
              "      <td>88881.0</td>\n",
              "      <td>45307.0</td>\n",
              "      <td>99603.0</td>\n",
              "      <td>44790.0</td>\n",
              "      <td>29749.0</td>\n",
              "      <td>0.0</td>\n",
              "      <td>0.0</td>\n",
              "    </tr>\n",
              "  </tbody>\n",
              "</table>\n",
              "</div>"
            ],
            "text/plain": [
              "   SubjectID  VideoID  Attention  ...   Gamma2  predefinedlabel  user-definedlabeln\n",
              "0        0.0      0.0       56.0  ...   8293.0              0.0                 0.0\n",
              "1        0.0      0.0       40.0  ...   2740.0              0.0                 0.0\n",
              "2        0.0      0.0       47.0  ...  25354.0              0.0                 0.0\n",
              "3        0.0      0.0       47.0  ...  33932.0              0.0                 0.0\n",
              "4        0.0      0.0       44.0  ...  29749.0              0.0                 0.0\n",
              "\n",
              "[5 rows x 15 columns]"
            ]
          },
          "metadata": {
            "tags": []
          },
          "execution_count": 4
        }
      ]
    },
    {
      "cell_type": "markdown",
      "metadata": {
        "id": "qQ0FW_QsK1AF",
        "colab_type": "text"
      },
      "source": [
        "Showing each student brain-wave for **Raw Signal**"
      ]
    },
    {
      "cell_type": "code",
      "metadata": {
        "id": "zAyBHBeUKuyn",
        "colab_type": "code",
        "outputId": "4add4522-9bd0-4542-b784-d9b43a2c1b0e",
        "colab": {
          "base_uri": "https://localhost:8080/",
          "height": 437
        }
      },
      "source": [
        "fig, ax = plt.subplots(figsize=(12,6))\n",
        "data.groupby(['VideoID','SubjectID']).count()['Raw'].unstack().plot(ax=ax)\n",
        "ax.set_xlabel('Video ID')\n",
        "ax.set_ylabel('Raw Signal')"
      ],
      "execution_count": 0,
      "outputs": [
        {
          "output_type": "execute_result",
          "data": {
            "text/plain": [
              "Text(0, 0.5, 'Raw Signal')"
            ]
          },
          "metadata": {
            "tags": []
          },
          "execution_count": 5
        },
        {
          "output_type": "display_data",
          "data": {
            "image/png": "[encoded data removed]",
            "text/plain": [
              "<Figure size 864x432 with 1 Axes>"
            ]
          },
          "metadata": {
            "tags": []
          }
        }
      ]
    },
    {
      "cell_type": "markdown",
      "metadata": {
        "id": "nmNmxDbNK_R_",
        "colab_type": "text"
      },
      "source": [
        " I have tried to plot each signal and it turns out same pattern"
      ]
    },
    {
      "cell_type": "markdown",
      "metadata": {
        "id": "1lRAf4JBLL7M",
        "colab_type": "text"
      },
      "source": [
        "# Extracting Feature\n",
        "This section for extracting the feature from the dataset, because there is anomaly in the dataset so I need to extracting the feature for each student for each video."
      ]
    },
    {
      "cell_type": "code",
      "metadata": {
        "id": "PhcL-_d3K-v-",
        "colab_type": "code",
        "colab": {}
      },
      "source": [
        "df = pd.DataFrame(data, dtype='f8') \n",
        "df.columns = [\n",
        "    'Subject', \n",
        "    'Video',   \n",
        "    'Attention', \n",
        "    'Meditation', \n",
        "    'Raw',\n",
        "    'Delta', \n",
        "    'Theta', \n",
        "    'Alpha1', \n",
        "    'Alpha2', \n",
        "    'Beta1', \n",
        "    'Beta2', \n",
        "    'Gamma1', \n",
        "    'Gamma2', \n",
        "    'exp', \n",
        "    'obs'\n",
        "]\n",
        "\n",
        "\n",
        "msg_missing = 'Missing values in dataset'\n",
        "assert(all(df.isnull() == False)), msg_missing\n",
        "\n",
        "major = df['Subject'].values \n",
        "minor = df['Video'].values\n",
        "df.index = pd.MultiIndex.from_arrays([major, minor])\n",
        "\n",
        "df.index.levels[0].name = 'Subject'\n",
        "df.index.levels[1].name = 'Video'\n",
        "\n",
        "del df['Subject']\n",
        "del df['Video']"
      ],
      "execution_count": 0,
      "outputs": []
    },
    {
      "cell_type": "code",
      "metadata": {
        "id": "lEbH_z1DkkJ6",
        "colab_type": "code",
        "outputId": "05f997b7-00cf-49a2-fc36-c16b446809e3",
        "colab": {
          "base_uri": "https://localhost:8080/",
          "height": 378
        }
      },
      "source": [
        "df[:10]"
      ],
      "execution_count": 0,
      "outputs": [
        {
          "output_type": "execute_result",
          "data": {
            "text/html": [
              "<div>\n",
              "<style scoped>\n",
              "    .dataframe tbody tr th:only-of-type {\n",
              "        vertical-align: middle;\n",
              "    }\n",
              "\n",
              "    .dataframe tbody tr th {\n",
              "        vertical-align: top;\n",
              "    }\n",
              "\n",
              "    .dataframe thead th {\n",
              "        text-align: right;\n",
              "    }\n",
              "</style>\n",
              "<table border=\"1\" class=\"dataframe\">\n",
              "  <thead>\n",
              "    <tr style=\"text-align: right;\">\n",
              "      <th></th>\n",
              "      <th></th>\n",
              "      <th>Attention</th>\n",
              "      <th>Meditation</th>\n",
              "      <th>Raw</th>\n",
              "      <th>Delta</th>\n",
              "      <th>Theta</th>\n",
              "      <th>Alpha1</th>\n",
              "      <th>Alpha2</th>\n",
              "      <th>Beta1</th>\n",
              "      <th>Beta2</th>\n",
              "      <th>Gamma1</th>\n",
              "      <th>Gamma2</th>\n",
              "      <th>exp</th>\n",
              "      <th>obs</th>\n",
              "    </tr>\n",
              "    <tr>\n",
              "      <th>Subject</th>\n",
              "      <th>Video</th>\n",
              "      <th></th>\n",
              "      <th></th>\n",
              "      <th></th>\n",
              "      <th></th>\n",
              "      <th></th>\n",
              "      <th></th>\n",
              "      <th></th>\n",
              "      <th></th>\n",
              "      <th></th>\n",
              "      <th></th>\n",
              "      <th></th>\n",
              "      <th></th>\n",
              "      <th></th>\n",
              "    </tr>\n",
              "  </thead>\n",
              "  <tbody>\n",
              "    <tr>\n",
              "      <th rowspan=\"10\" valign=\"top\">0.0</th>\n",
              "      <th>0.0</th>\n",
              "      <td>56.0</td>\n",
              "      <td>43.0</td>\n",
              "      <td>278.0</td>\n",
              "      <td>301963.0</td>\n",
              "      <td>90612.0</td>\n",
              "      <td>33735.0</td>\n",
              "      <td>23991.0</td>\n",
              "      <td>27946.0</td>\n",
              "      <td>45097.0</td>\n",
              "      <td>33228.0</td>\n",
              "      <td>8293.0</td>\n",
              "      <td>0.0</td>\n",
              "      <td>0.0</td>\n",
              "    </tr>\n",
              "    <tr>\n",
              "      <th>0.0</th>\n",
              "      <td>40.0</td>\n",
              "      <td>35.0</td>\n",
              "      <td>-50.0</td>\n",
              "      <td>73787.0</td>\n",
              "      <td>28083.0</td>\n",
              "      <td>1439.0</td>\n",
              "      <td>2240.0</td>\n",
              "      <td>2746.0</td>\n",
              "      <td>3687.0</td>\n",
              "      <td>5293.0</td>\n",
              "      <td>2740.0</td>\n",
              "      <td>0.0</td>\n",
              "      <td>0.0</td>\n",
              "    </tr>\n",
              "    <tr>\n",
              "      <th>0.0</th>\n",
              "      <td>47.0</td>\n",
              "      <td>48.0</td>\n",
              "      <td>101.0</td>\n",
              "      <td>758353.0</td>\n",
              "      <td>383745.0</td>\n",
              "      <td>201999.0</td>\n",
              "      <td>62107.0</td>\n",
              "      <td>36293.0</td>\n",
              "      <td>130536.0</td>\n",
              "      <td>57243.0</td>\n",
              "      <td>25354.0</td>\n",
              "      <td>0.0</td>\n",
              "      <td>0.0</td>\n",
              "    </tr>\n",
              "    <tr>\n",
              "      <th>0.0</th>\n",
              "      <td>47.0</td>\n",
              "      <td>57.0</td>\n",
              "      <td>-5.0</td>\n",
              "      <td>2012240.0</td>\n",
              "      <td>129350.0</td>\n",
              "      <td>61236.0</td>\n",
              "      <td>17084.0</td>\n",
              "      <td>11488.0</td>\n",
              "      <td>62462.0</td>\n",
              "      <td>49960.0</td>\n",
              "      <td>33932.0</td>\n",
              "      <td>0.0</td>\n",
              "      <td>0.0</td>\n",
              "    </tr>\n",
              "    <tr>\n",
              "      <th>0.0</th>\n",
              "      <td>44.0</td>\n",
              "      <td>53.0</td>\n",
              "      <td>-8.0</td>\n",
              "      <td>1005145.0</td>\n",
              "      <td>354328.0</td>\n",
              "      <td>37102.0</td>\n",
              "      <td>88881.0</td>\n",
              "      <td>45307.0</td>\n",
              "      <td>99603.0</td>\n",
              "      <td>44790.0</td>\n",
              "      <td>29749.0</td>\n",
              "      <td>0.0</td>\n",
              "      <td>0.0</td>\n",
              "    </tr>\n",
              "    <tr>\n",
              "      <th>0.0</th>\n",
              "      <td>44.0</td>\n",
              "      <td>66.0</td>\n",
              "      <td>73.0</td>\n",
              "      <td>1786446.0</td>\n",
              "      <td>176766.0</td>\n",
              "      <td>59352.0</td>\n",
              "      <td>26157.0</td>\n",
              "      <td>15054.0</td>\n",
              "      <td>33669.0</td>\n",
              "      <td>33782.0</td>\n",
              "      <td>31750.0</td>\n",
              "      <td>0.0</td>\n",
              "      <td>0.0</td>\n",
              "    </tr>\n",
              "    <tr>\n",
              "      <th>0.0</th>\n",
              "      <td>43.0</td>\n",
              "      <td>69.0</td>\n",
              "      <td>130.0</td>\n",
              "      <td>635191.0</td>\n",
              "      <td>122446.0</td>\n",
              "      <td>90107.0</td>\n",
              "      <td>65072.0</td>\n",
              "      <td>36230.0</td>\n",
              "      <td>53019.0</td>\n",
              "      <td>62938.0</td>\n",
              "      <td>59307.0</td>\n",
              "      <td>0.0</td>\n",
              "      <td>0.0</td>\n",
              "    </tr>\n",
              "    <tr>\n",
              "      <th>0.0</th>\n",
              "      <td>40.0</td>\n",
              "      <td>61.0</td>\n",
              "      <td>-2.0</td>\n",
              "      <td>161098.0</td>\n",
              "      <td>12119.0</td>\n",
              "      <td>1963.0</td>\n",
              "      <td>809.0</td>\n",
              "      <td>1277.0</td>\n",
              "      <td>3186.0</td>\n",
              "      <td>3266.0</td>\n",
              "      <td>2518.0</td>\n",
              "      <td>0.0</td>\n",
              "      <td>0.0</td>\n",
              "    </tr>\n",
              "    <tr>\n",
              "      <th>0.0</th>\n",
              "      <td>43.0</td>\n",
              "      <td>69.0</td>\n",
              "      <td>17.0</td>\n",
              "      <td>492796.0</td>\n",
              "      <td>120998.0</td>\n",
              "      <td>63697.0</td>\n",
              "      <td>68242.0</td>\n",
              "      <td>10769.0</td>\n",
              "      <td>88403.0</td>\n",
              "      <td>73756.0</td>\n",
              "      <td>22676.0</td>\n",
              "      <td>0.0</td>\n",
              "      <td>0.0</td>\n",
              "    </tr>\n",
              "    <tr>\n",
              "      <th>0.0</th>\n",
              "      <td>47.0</td>\n",
              "      <td>69.0</td>\n",
              "      <td>-59.0</td>\n",
              "      <td>82048.0</td>\n",
              "      <td>116131.0</td>\n",
              "      <td>47317.0</td>\n",
              "      <td>26197.0</td>\n",
              "      <td>41642.0</td>\n",
              "      <td>28866.0</td>\n",
              "      <td>32551.0</td>\n",
              "      <td>41810.0</td>\n",
              "      <td>0.0</td>\n",
              "      <td>0.0</td>\n",
              "    </tr>\n",
              "  </tbody>\n",
              "</table>\n",
              "</div>"
            ],
            "text/plain": [
              "               Attention  Meditation    Raw  ...   Gamma2  exp  obs\n",
              "Subject Video                                ...                   \n",
              "0.0     0.0         56.0        43.0  278.0  ...   8293.0  0.0  0.0\n",
              "        0.0         40.0        35.0  -50.0  ...   2740.0  0.0  0.0\n",
              "        0.0         47.0        48.0  101.0  ...  25354.0  0.0  0.0\n",
              "        0.0         47.0        57.0   -5.0  ...  33932.0  0.0  0.0\n",
              "        0.0         44.0        53.0   -8.0  ...  29749.0  0.0  0.0\n",
              "        0.0         44.0        66.0   73.0  ...  31750.0  0.0  0.0\n",
              "        0.0         43.0        69.0  130.0  ...  59307.0  0.0  0.0\n",
              "        0.0         40.0        61.0   -2.0  ...   2518.0  0.0  0.0\n",
              "        0.0         43.0        69.0   17.0  ...  22676.0  0.0  0.0\n",
              "        0.0         47.0        69.0  -59.0  ...  41810.0  0.0  0.0\n",
              "\n",
              "[10 rows x 13 columns]"
            ]
          },
          "metadata": {
            "tags": []
          },
          "execution_count": 7
        }
      ]
    },
    {
      "cell_type": "markdown",
      "metadata": {
        "id": "RAC0AR_Ckpqh",
        "colab_type": "text"
      },
      "source": [
        "now we grouping the dataset according to the subject then we grouping the video by mean for each signal in each video"
      ]
    },
    {
      "cell_type": "code",
      "metadata": {
        "id": "IquF10Khkl9S",
        "colab_type": "code",
        "outputId": "b6420f0d-1a59-4a9f-b771-6f2778322c1f",
        "colab": {
          "base_uri": "https://localhost:8080/",
          "height": 398
        }
      },
      "source": [
        "grp_vid = df.groupby(level=0)\n",
        "X = grp_vid.apply(lambda x: x.groupby(level=1).mean())\n",
        "y = X['obs']\n",
        "\n",
        "X[:10]"
      ],
      "execution_count": 0,
      "outputs": [
        {
          "output_type": "execute_result",
          "data": {
            "text/html": [
              "<div>\n",
              "<style scoped>\n",
              "    .dataframe tbody tr th:only-of-type {\n",
              "        vertical-align: middle;\n",
              "    }\n",
              "\n",
              "    .dataframe tbody tr th {\n",
              "        vertical-align: top;\n",
              "    }\n",
              "\n",
              "    .dataframe thead th {\n",
              "        text-align: right;\n",
              "    }\n",
              "</style>\n",
              "<table border=\"1\" class=\"dataframe\">\n",
              "  <thead>\n",
              "    <tr style=\"text-align: right;\">\n",
              "      <th></th>\n",
              "      <th></th>\n",
              "      <th>Attention</th>\n",
              "      <th>Meditation</th>\n",
              "      <th>Raw</th>\n",
              "      <th>Delta</th>\n",
              "      <th>Theta</th>\n",
              "      <th>Alpha1</th>\n",
              "      <th>Alpha2</th>\n",
              "      <th>Beta1</th>\n",
              "      <th>Beta2</th>\n",
              "      <th>Gamma1</th>\n",
              "      <th>Gamma2</th>\n",
              "      <th>exp</th>\n",
              "      <th>obs</th>\n",
              "    </tr>\n",
              "    <tr>\n",
              "      <th>Subject</th>\n",
              "      <th>Video</th>\n",
              "      <th></th>\n",
              "      <th></th>\n",
              "      <th></th>\n",
              "      <th></th>\n",
              "      <th></th>\n",
              "      <th></th>\n",
              "      <th></th>\n",
              "      <th></th>\n",
              "      <th></th>\n",
              "      <th></th>\n",
              "      <th></th>\n",
              "      <th></th>\n",
              "      <th></th>\n",
              "    </tr>\n",
              "  </thead>\n",
              "  <tbody>\n",
              "    <tr>\n",
              "      <th rowspan=\"10\" valign=\"top\">0.0</th>\n",
              "      <th>0.0</th>\n",
              "      <td>55.256944</td>\n",
              "      <td>53.826389</td>\n",
              "      <td>46.986111</td>\n",
              "      <td>544315.097222</td>\n",
              "      <td>124965.590278</td>\n",
              "      <td>36693.701389</td>\n",
              "      <td>25875.298611</td>\n",
              "      <td>20108.791667</td>\n",
              "      <td>40268.763889</td>\n",
              "      <td>40729.284722</td>\n",
              "      <td>16817.062500</td>\n",
              "      <td>0.0</td>\n",
              "      <td>0.0</td>\n",
              "    </tr>\n",
              "    <tr>\n",
              "      <th>1.0</th>\n",
              "      <td>43.621429</td>\n",
              "      <td>48.621429</td>\n",
              "      <td>28.800000</td>\n",
              "      <td>739737.292857</td>\n",
              "      <td>161064.228571</td>\n",
              "      <td>34918.028571</td>\n",
              "      <td>25078.935714</td>\n",
              "      <td>22157.307143</td>\n",
              "      <td>37410.728571</td>\n",
              "      <td>36758.700000</td>\n",
              "      <td>14519.407143</td>\n",
              "      <td>0.0</td>\n",
              "      <td>1.0</td>\n",
              "    </tr>\n",
              "    <tr>\n",
              "      <th>2.0</th>\n",
              "      <td>43.978873</td>\n",
              "      <td>47.316901</td>\n",
              "      <td>13.154930</td>\n",
              "      <td>694078.084507</td>\n",
              "      <td>149816.873239</td>\n",
              "      <td>30493.873239</td>\n",
              "      <td>21667.591549</td>\n",
              "      <td>21888.338028</td>\n",
              "      <td>36446.436620</td>\n",
              "      <td>33908.873239</td>\n",
              "      <td>14545.845070</td>\n",
              "      <td>0.0</td>\n",
              "      <td>1.0</td>\n",
              "    </tr>\n",
              "    <tr>\n",
              "      <th>3.0</th>\n",
              "      <td>51.057377</td>\n",
              "      <td>51.844262</td>\n",
              "      <td>34.713115</td>\n",
              "      <td>600823.688525</td>\n",
              "      <td>162653.360656</td>\n",
              "      <td>33367.278689</td>\n",
              "      <td>26281.500000</td>\n",
              "      <td>17224.278689</td>\n",
              "      <td>43706.524590</td>\n",
              "      <td>41438.213115</td>\n",
              "      <td>16558.631148</td>\n",
              "      <td>0.0</td>\n",
              "      <td>0.0</td>\n",
              "    </tr>\n",
              "    <tr>\n",
              "      <th>4.0</th>\n",
              "      <td>55.224138</td>\n",
              "      <td>47.474138</td>\n",
              "      <td>30.008621</td>\n",
              "      <td>546628.017241</td>\n",
              "      <td>126893.948276</td>\n",
              "      <td>23113.844828</td>\n",
              "      <td>17017.051724</td>\n",
              "      <td>15955.879310</td>\n",
              "      <td>36427.836207</td>\n",
              "      <td>36024.818966</td>\n",
              "      <td>14752.655172</td>\n",
              "      <td>0.0</td>\n",
              "      <td>0.0</td>\n",
              "    </tr>\n",
              "    <tr>\n",
              "      <th>5.0</th>\n",
              "      <td>49.813008</td>\n",
              "      <td>41.048780</td>\n",
              "      <td>38.804878</td>\n",
              "      <td>935209.048780</td>\n",
              "      <td>282487.512195</td>\n",
              "      <td>70498.089431</td>\n",
              "      <td>40760.398374</td>\n",
              "      <td>28621.528455</td>\n",
              "      <td>41453.463415</td>\n",
              "      <td>54069.455285</td>\n",
              "      <td>22656.227642</td>\n",
              "      <td>1.0</td>\n",
              "      <td>1.0</td>\n",
              "    </tr>\n",
              "    <tr>\n",
              "      <th>6.0</th>\n",
              "      <td>33.586207</td>\n",
              "      <td>44.310345</td>\n",
              "      <td>44.224138</td>\n",
              "      <td>785092.603448</td>\n",
              "      <td>212861.879310</td>\n",
              "      <td>35401.000000</td>\n",
              "      <td>24325.224138</td>\n",
              "      <td>19985.818966</td>\n",
              "      <td>30956.370690</td>\n",
              "      <td>30169.215517</td>\n",
              "      <td>14366.318966</td>\n",
              "      <td>1.0</td>\n",
              "      <td>1.0</td>\n",
              "    </tr>\n",
              "    <tr>\n",
              "      <th>7.0</th>\n",
              "      <td>48.000000</td>\n",
              "      <td>50.241071</td>\n",
              "      <td>28.267857</td>\n",
              "      <td>477990.008929</td>\n",
              "      <td>114145.276786</td>\n",
              "      <td>25727.714286</td>\n",
              "      <td>16241.580357</td>\n",
              "      <td>15278.625000</td>\n",
              "      <td>37795.616071</td>\n",
              "      <td>36331.428571</td>\n",
              "      <td>13718.250000</td>\n",
              "      <td>1.0</td>\n",
              "      <td>0.0</td>\n",
              "    </tr>\n",
              "    <tr>\n",
              "      <th>8.0</th>\n",
              "      <td>55.548387</td>\n",
              "      <td>52.879032</td>\n",
              "      <td>29.564516</td>\n",
              "      <td>914415.459677</td>\n",
              "      <td>198926.048387</td>\n",
              "      <td>42279.814516</td>\n",
              "      <td>25929.185484</td>\n",
              "      <td>20326.217742</td>\n",
              "      <td>36773.443548</td>\n",
              "      <td>45424.588710</td>\n",
              "      <td>17554.927419</td>\n",
              "      <td>1.0</td>\n",
              "      <td>1.0</td>\n",
              "    </tr>\n",
              "    <tr>\n",
              "      <th>9.0</th>\n",
              "      <td>49.934426</td>\n",
              "      <td>47.270492</td>\n",
              "      <td>37.286885</td>\n",
              "      <td>602249.393443</td>\n",
              "      <td>130773.500000</td>\n",
              "      <td>26457.377049</td>\n",
              "      <td>20616.622951</td>\n",
              "      <td>20124.450820</td>\n",
              "      <td>29241.040984</td>\n",
              "      <td>28180.090164</td>\n",
              "      <td>11692.385246</td>\n",
              "      <td>1.0</td>\n",
              "      <td>0.0</td>\n",
              "    </tr>\n",
              "  </tbody>\n",
              "</table>\n",
              "</div>"
            ],
            "text/plain": [
              "               Attention  Meditation        Raw  ...        Gamma2  exp  obs\n",
              "Subject Video                                    ...                        \n",
              "0.0     0.0    55.256944   53.826389  46.986111  ...  16817.062500  0.0  0.0\n",
              "        1.0    43.621429   48.621429  28.800000  ...  14519.407143  0.0  1.0\n",
              "        2.0    43.978873   47.316901  13.154930  ...  14545.845070  0.0  1.0\n",
              "        3.0    51.057377   51.844262  34.713115  ...  16558.631148  0.0  0.0\n",
              "        4.0    55.224138   47.474138  30.008621  ...  14752.655172  0.0  0.0\n",
              "        5.0    49.813008   41.048780  38.804878  ...  22656.227642  1.0  1.0\n",
              "        6.0    33.586207   44.310345  44.224138  ...  14366.318966  1.0  1.0\n",
              "        7.0    48.000000   50.241071  28.267857  ...  13718.250000  1.0  0.0\n",
              "        8.0    55.548387   52.879032  29.564516  ...  17554.927419  1.0  1.0\n",
              "        9.0    49.934426   47.270492  37.286885  ...  11692.385246  1.0  0.0\n",
              "\n",
              "[10 rows x 13 columns]"
            ]
          },
          "metadata": {
            "tags": []
          },
          "execution_count": 8
        }
      ]
    },
    {
      "cell_type": "markdown",
      "metadata": {
        "id": "hLwDq5sCnQYg",
        "colab_type": "text"
      },
      "source": [
        "# Classification and Clustering without Dimension Reduction\n",
        "We try classifying the dataset using NaiveBayes and KNN, and we tring to clustering the data in 7 classes. The classes show how confused the subject is."
      ]
    },
    {
      "cell_type": "code",
      "metadata": {
        "id": "1jvRgL0YnDlg",
        "colab_type": "code",
        "colab": {}
      },
      "source": [
        "from sklearn.naive_bayes import GaussianNB\n",
        "from sklearn.neighbors import KNeighborsClassifier\n",
        "from sklearn.mixture import GaussianMixture\n",
        "from sklearn.cluster import KMeans"
      ],
      "execution_count": 0,
      "outputs": []
    },
    {
      "cell_type": "code",
      "metadata": {
        "id": "xgq3ISgRoXmA",
        "colab_type": "code",
        "colab": {}
      },
      "source": [
        "nb = GaussianNB()\n",
        "knn = KNeighborsClassifier(n_neighbors=2)\n",
        "\n",
        "kmeans = KMeans(n_clusters=7)\n",
        "gmm = GaussianMixture(n_components=7)"
      ],
      "execution_count": 0,
      "outputs": []
    },
    {
      "cell_type": "code",
      "metadata": {
        "id": "eBpPz8cEokWG",
        "colab_type": "code",
        "colab": {}
      },
      "source": [
        "from sklearn.model_selection import train_test_split\n",
        "X_train, X_test, y_train, y_test = train_test_split(X, y, test_size=0.2, random_state=42)"
      ],
      "execution_count": 0,
      "outputs": []
    },
    {
      "cell_type": "markdown",
      "metadata": {
        "id": "gf1f6k8io2al",
        "colab_type": "text"
      },
      "source": [
        "**Classification**"
      ]
    },
    {
      "cell_type": "code",
      "metadata": {
        "id": "ZGhtVKJvoopu",
        "colab_type": "code",
        "colab": {}
      },
      "source": [
        "from sklearn.metrics import accuracy_score"
      ],
      "execution_count": 0,
      "outputs": []
    },
    {
      "cell_type": "markdown",
      "metadata": {
        "id": "VjKVuLV6pRYG",
        "colab_type": "text"
      },
      "source": [
        "Naive Bayes"
      ]
    },
    {
      "cell_type": "code",
      "metadata": {
        "id": "589YJ23Gotaa",
        "colab_type": "code",
        "outputId": "15daf5ac-f613-4e58-f9c4-f8a52dba9a0b",
        "colab": {
          "base_uri": "https://localhost:8080/",
          "height": 54
        }
      },
      "source": [
        "nb.fit(X_train, y_train)\n",
        "nb_pred = nb.predict(X_train)\n",
        "nb_acc = accuracy_score(y_train, nb_pred)\n",
        "print('Number of accuracy')\n",
        "nb_acc"
      ],
      "execution_count": 0,
      "outputs": [
        {
          "output_type": "stream",
          "text": [
            "Number of accuracy\n"
          ],
          "name": "stdout"
        },
        {
          "output_type": "execute_result",
          "data": {
            "text/plain": [
              "0.65"
            ]
          },
          "metadata": {
            "tags": []
          },
          "execution_count": 13
        }
      ]
    },
    {
      "cell_type": "code",
      "metadata": {
        "id": "oV8dW1zfo8Pz",
        "colab_type": "code",
        "outputId": "5f8744dd-979f-4bb9-ee29-2d3a3e0f6bd1",
        "colab": {
          "base_uri": "https://localhost:8080/",
          "height": 54
        }
      },
      "source": [
        "nb_test= nb.predict(X_test)\n",
        "acc_nb = accuracy_score(y_test, nb_test)\n",
        "print('Number of accuracy')\n",
        "acc_nb"
      ],
      "execution_count": 0,
      "outputs": [
        {
          "output_type": "stream",
          "text": [
            "Number of accuracy\n"
          ],
          "name": "stdout"
        },
        {
          "output_type": "execute_result",
          "data": {
            "text/plain": [
              "0.8"
            ]
          },
          "metadata": {
            "tags": []
          },
          "execution_count": 14
        }
      ]
    },
    {
      "cell_type": "markdown",
      "metadata": {
        "id": "2RjpXT9kpWFr",
        "colab_type": "text"
      },
      "source": [
        "KNN"
      ]
    },
    {
      "cell_type": "code",
      "metadata": {
        "id": "edwaPN3hoz8O",
        "colab_type": "code",
        "outputId": "e375a728-320e-47e6-beac-5b6bea4fd475",
        "colab": {
          "base_uri": "https://localhost:8080/",
          "height": 54
        }
      },
      "source": [
        "knn.fit(X_train, y_train)\n",
        "knn_pred = knn.predict(X_train)\n",
        "knn_acc = accuracy_score(y_train, knn_pred)\n",
        "print('Number of accuracy')\n",
        "knn_acc"
      ],
      "execution_count": 0,
      "outputs": [
        {
          "output_type": "stream",
          "text": [
            "Number of accuracy\n"
          ],
          "name": "stdout"
        },
        {
          "output_type": "execute_result",
          "data": {
            "text/plain": [
              "0.85"
            ]
          },
          "metadata": {
            "tags": []
          },
          "execution_count": 15
        }
      ]
    },
    {
      "cell_type": "code",
      "metadata": {
        "id": "-amy32LKpauZ",
        "colab_type": "code",
        "outputId": "01b90ff5-0e8a-4594-8d58-951ab7472221",
        "colab": {
          "base_uri": "https://localhost:8080/",
          "height": 54
        }
      },
      "source": [
        "knn_test= knn.predict(X_test)\n",
        "acc_knn = accuracy_score(y_test, knn_test)\n",
        "print('Number of accuracy')\n",
        "acc_knn"
      ],
      "execution_count": 0,
      "outputs": [
        {
          "output_type": "stream",
          "text": [
            "Number of accuracy\n"
          ],
          "name": "stdout"
        },
        {
          "output_type": "execute_result",
          "data": {
            "text/plain": [
              "0.7"
            ]
          },
          "metadata": {
            "tags": []
          },
          "execution_count": 16
        }
      ]
    },
    {
      "cell_type": "markdown",
      "metadata": {
        "id": "QLn5w9f-4n8z",
        "colab_type": "text"
      },
      "source": [
        "Support Vector Machine"
      ]
    },
    {
      "cell_type": "code",
      "metadata": {
        "id": "NaCu_IkD1e9T",
        "colab_type": "code",
        "colab": {}
      },
      "source": [
        "from sklearn.svm import SVC"
      ],
      "execution_count": 0,
      "outputs": []
    },
    {
      "cell_type": "code",
      "metadata": {
        "id": "Gx3B2Jf41uN2",
        "colab_type": "code",
        "outputId": "a47a922d-91a7-425a-a881-3c8963e2561d",
        "colab": {
          "base_uri": "https://localhost:8080/",
          "height": 54
        }
      },
      "source": [
        "svm = SVC(gamma='auto')\n",
        "svm.fit(X_train, y_train)\n",
        "svm_pred = svm.predict(X_train)\n",
        "svm_acc = accuracy_score(y_train, svm_pred)\n",
        "print('Number of accuracy')\n",
        "svm_acc"
      ],
      "execution_count": 0,
      "outputs": [
        {
          "output_type": "stream",
          "text": [
            "Number of accuracy\n"
          ],
          "name": "stdout"
        },
        {
          "output_type": "execute_result",
          "data": {
            "text/plain": [
              "1.0"
            ]
          },
          "metadata": {
            "tags": []
          },
          "execution_count": 18
        }
      ]
    },
    {
      "cell_type": "code",
      "metadata": {
        "id": "8qSi6uEr5DgZ",
        "colab_type": "code",
        "outputId": "51ebc39c-f1d4-432e-8611-84963ae999f7",
        "colab": {
          "base_uri": "https://localhost:8080/",
          "height": 54
        }
      },
      "source": [
        "svm_test= svm.predict(X_test)\n",
        "acc_svm = accuracy_score(y_test, svm_test)\n",
        "print('Number of accuracy')\n",
        "acc_svm"
      ],
      "execution_count": 0,
      "outputs": [
        {
          "output_type": "stream",
          "text": [
            "Number of accuracy\n"
          ],
          "name": "stdout"
        },
        {
          "output_type": "execute_result",
          "data": {
            "text/plain": [
              "0.35"
            ]
          },
          "metadata": {
            "tags": []
          },
          "execution_count": 19
        }
      ]
    },
    {
      "cell_type": "markdown",
      "metadata": {
        "id": "Hzw08nGypi2m",
        "colab_type": "text"
      },
      "source": [
        "**Clustering**"
      ]
    },
    {
      "cell_type": "code",
      "metadata": {
        "id": "7ULW5Zz2piCb",
        "colab_type": "code",
        "colab": {}
      },
      "source": [
        "kmeans_clus = kmeans.fit_predict(X_train, y_train)"
      ],
      "execution_count": 0,
      "outputs": []
    },
    {
      "cell_type": "markdown",
      "metadata": {
        "id": "XzNYq0BNrJzo",
        "colab_type": "text"
      },
      "source": [
        "For making the data easier to analyze we create new data frame to see the class for each observed data."
      ]
    },
    {
      "cell_type": "code",
      "metadata": {
        "id": "GYzCG5BiLmz2",
        "colab_type": "code",
        "colab": {}
      },
      "source": [
        "cluster = {}\n",
        "for i in X_train:\n",
        "    cluster[i] = X_train[i]\n",
        "\n",
        "cluster['cluster_kmeans'] = kmeans_clus\n",
        "cluster_data1 = pd.DataFrame(cluster, index=X_train.index)"
      ],
      "execution_count": 0,
      "outputs": []
    },
    {
      "cell_type": "code",
      "metadata": {
        "id": "8pLnTUQDyPmZ",
        "colab_type": "code",
        "outputId": "3019e09c-b3dd-4dcb-e809-41886fde9c52",
        "colab": {
          "base_uri": "https://localhost:8080/",
          "height": 437
        }
      },
      "source": [
        "fig, ax = plt.subplots(figsize=(12,6))\n",
        "cluster_data1.groupby(['Video','cluster_kmeans']).count()['Raw'].unstack().plot(ax=ax)\n",
        "ax.set_xlabel('Video ID')\n",
        "ax.set_ylabel('Raw Signal')"
      ],
      "execution_count": 0,
      "outputs": [
        {
          "output_type": "execute_result",
          "data": {
            "text/plain": [
              "Text(0, 0.5, 'Raw Signal')"
            ]
          },
          "metadata": {
            "tags": []
          },
          "execution_count": 22
        },
        {
          "output_type": "display_data",
          "data": {
            "image/png": "[encoded data removed]",
            "text/plain": [
              "<Figure size 864x432 with 1 Axes>"
            ]
          },
          "metadata": {
            "tags": []
          }
        }
      ]
    },
    {
      "cell_type": "code",
      "metadata": {
        "id": "AbcLxLmZSV51",
        "colab_type": "code",
        "outputId": "4d384a88-6b98-4e4f-e852-314ca02a8647",
        "colab": {
          "base_uri": "https://localhost:8080/",
          "height": 1000
        }
      },
      "source": [
        "cluster_data1.head(100)"
      ],
      "execution_count": 0,
      "outputs": [
        {
          "output_type": "execute_result",
          "data": {
            "text/html": [
              "<div>\n",
              "<style scoped>\n",
              "    .dataframe tbody tr th:only-of-type {\n",
              "        vertical-align: middle;\n",
              "    }\n",
              "\n",
              "    .dataframe tbody tr th {\n",
              "        vertical-align: top;\n",
              "    }\n",
              "\n",
              "    .dataframe thead th {\n",
              "        text-align: right;\n",
              "    }\n",
              "</style>\n",
              "<table border=\"1\" class=\"dataframe\">\n",
              "  <thead>\n",
              "    <tr style=\"text-align: right;\">\n",
              "      <th></th>\n",
              "      <th></th>\n",
              "      <th>Attention</th>\n",
              "      <th>Meditation</th>\n",
              "      <th>Raw</th>\n",
              "      <th>Delta</th>\n",
              "      <th>Theta</th>\n",
              "      <th>Alpha1</th>\n",
              "      <th>Alpha2</th>\n",
              "      <th>Beta1</th>\n",
              "      <th>Beta2</th>\n",
              "      <th>Gamma1</th>\n",
              "      <th>Gamma2</th>\n",
              "      <th>exp</th>\n",
              "      <th>obs</th>\n",
              "      <th>cluster_kmeans</th>\n",
              "    </tr>\n",
              "    <tr>\n",
              "      <th>Subject</th>\n",
              "      <th>Video</th>\n",
              "      <th></th>\n",
              "      <th></th>\n",
              "      <th></th>\n",
              "      <th></th>\n",
              "      <th></th>\n",
              "      <th></th>\n",
              "      <th></th>\n",
              "      <th></th>\n",
              "      <th></th>\n",
              "      <th></th>\n",
              "      <th></th>\n",
              "      <th></th>\n",
              "      <th></th>\n",
              "      <th></th>\n",
              "    </tr>\n",
              "  </thead>\n",
              "  <tbody>\n",
              "    <tr>\n",
              "      <th>5.0</th>\n",
              "      <th>5.0</th>\n",
              "      <td>46.829268</td>\n",
              "      <td>55.674797</td>\n",
              "      <td>28.617886</td>\n",
              "      <td>8.367144e+05</td>\n",
              "      <td>323949.235772</td>\n",
              "      <td>85223.853659</td>\n",
              "      <td>56618.000000</td>\n",
              "      <td>41177.894309</td>\n",
              "      <td>31127.382114</td>\n",
              "      <td>16967.357724</td>\n",
              "      <td>5347.447154</td>\n",
              "      <td>1.0</td>\n",
              "      <td>1.0</td>\n",
              "      <td>3</td>\n",
              "    </tr>\n",
              "    <tr>\n",
              "      <th>8.0</th>\n",
              "      <th>8.0</th>\n",
              "      <td>36.938931</td>\n",
              "      <td>47.885496</td>\n",
              "      <td>27.580153</td>\n",
              "      <td>9.706778e+05</td>\n",
              "      <td>298036.244275</td>\n",
              "      <td>85597.312977</td>\n",
              "      <td>72016.916031</td>\n",
              "      <td>37478.763359</td>\n",
              "      <td>45701.702290</td>\n",
              "      <td>33887.755725</td>\n",
              "      <td>16773.381679</td>\n",
              "      <td>1.0</td>\n",
              "      <td>1.0</td>\n",
              "      <td>3</td>\n",
              "    </tr>\n",
              "    <tr>\n",
              "      <th>2.0</th>\n",
              "      <th>6.0</th>\n",
              "      <td>55.689655</td>\n",
              "      <td>55.732759</td>\n",
              "      <td>32.353448</td>\n",
              "      <td>1.713111e+04</td>\n",
              "      <td>12021.172414</td>\n",
              "      <td>5660.896552</td>\n",
              "      <td>6346.620690</td>\n",
              "      <td>5865.491379</td>\n",
              "      <td>6265.732759</td>\n",
              "      <td>2702.189655</td>\n",
              "      <td>2364.241379</td>\n",
              "      <td>1.0</td>\n",
              "      <td>0.0</td>\n",
              "      <td>2</td>\n",
              "    </tr>\n",
              "    <tr>\n",
              "      <th>4.0</th>\n",
              "      <th>2.0</th>\n",
              "      <td>47.393443</td>\n",
              "      <td>62.540984</td>\n",
              "      <td>30.983607</td>\n",
              "      <td>4.375206e+05</td>\n",
              "      <td>128973.434426</td>\n",
              "      <td>28338.959016</td>\n",
              "      <td>18699.688525</td>\n",
              "      <td>19848.811475</td>\n",
              "      <td>13467.942623</td>\n",
              "      <td>9842.975410</td>\n",
              "      <td>8480.221311</td>\n",
              "      <td>0.0</td>\n",
              "      <td>1.0</td>\n",
              "      <td>0</td>\n",
              "    </tr>\n",
              "    <tr>\n",
              "      <th>6.0</th>\n",
              "      <th>9.0</th>\n",
              "      <td>0.000000</td>\n",
              "      <td>0.000000</td>\n",
              "      <td>300.868613</td>\n",
              "      <td>8.227087e+05</td>\n",
              "      <td>208945.313869</td>\n",
              "      <td>67313.576642</td>\n",
              "      <td>77372.233577</td>\n",
              "      <td>51915.080292</td>\n",
              "      <td>72598.350365</td>\n",
              "      <td>61240.481752</td>\n",
              "      <td>49866.518248</td>\n",
              "      <td>1.0</td>\n",
              "      <td>0.0</td>\n",
              "      <td>1</td>\n",
              "    </tr>\n",
              "    <tr>\n",
              "      <th>1.0</th>\n",
              "      <th>5.0</th>\n",
              "      <td>63.650407</td>\n",
              "      <td>58.186992</td>\n",
              "      <td>35.333333</td>\n",
              "      <td>3.246595e+05</td>\n",
              "      <td>92079.601626</td>\n",
              "      <td>24880.626016</td>\n",
              "      <td>22122.788618</td>\n",
              "      <td>18937.000000</td>\n",
              "      <td>14467.195122</td>\n",
              "      <td>8555.357724</td>\n",
              "      <td>7150.186992</td>\n",
              "      <td>1.0</td>\n",
              "      <td>0.0</td>\n",
              "      <td>6</td>\n",
              "    </tr>\n",
              "    <tr>\n",
              "      <th>4.0</th>\n",
              "      <th>0.0</th>\n",
              "      <td>54.357143</td>\n",
              "      <td>51.650000</td>\n",
              "      <td>60.157143</td>\n",
              "      <td>2.316397e+05</td>\n",
              "      <td>78786.850000</td>\n",
              "      <td>17327.607143</td>\n",
              "      <td>15246.521429</td>\n",
              "      <td>20254.350000</td>\n",
              "      <td>13804.221429</td>\n",
              "      <td>12165.685714</td>\n",
              "      <td>9169.021429</td>\n",
              "      <td>0.0</td>\n",
              "      <td>0.0</td>\n",
              "      <td>6</td>\n",
              "    </tr>\n",
              "    <tr>\n",
              "      <th>9.0</th>\n",
              "      <th>6.0</th>\n",
              "      <td>29.620690</td>\n",
              "      <td>53.293103</td>\n",
              "      <td>16.543103</td>\n",
              "      <td>7.805636e+05</td>\n",
              "      <td>193226.870690</td>\n",
              "      <td>74629.129310</td>\n",
              "      <td>44065.681034</td>\n",
              "      <td>23816.422414</td>\n",
              "      <td>25928.741379</td>\n",
              "      <td>17276.931034</td>\n",
              "      <td>3854.594828</td>\n",
              "      <td>1.0</td>\n",
              "      <td>0.0</td>\n",
              "      <td>1</td>\n",
              "    </tr>\n",
              "    <tr>\n",
              "      <th>0.0</th>\n",
              "      <th>9.0</th>\n",
              "      <td>49.934426</td>\n",
              "      <td>47.270492</td>\n",
              "      <td>37.286885</td>\n",
              "      <td>6.022494e+05</td>\n",
              "      <td>130773.500000</td>\n",
              "      <td>26457.377049</td>\n",
              "      <td>20616.622951</td>\n",
              "      <td>20124.450820</td>\n",
              "      <td>29241.040984</td>\n",
              "      <td>28180.090164</td>\n",
              "      <td>11692.385246</td>\n",
              "      <td>1.0</td>\n",
              "      <td>0.0</td>\n",
              "      <td>4</td>\n",
              "    </tr>\n",
              "    <tr>\n",
              "      <th>7.0</th>\n",
              "      <th>2.0</th>\n",
              "      <td>56.073770</td>\n",
              "      <td>48.778689</td>\n",
              "      <td>31.950820</td>\n",
              "      <td>2.397276e+05</td>\n",
              "      <td>66519.573770</td>\n",
              "      <td>15494.950820</td>\n",
              "      <td>14791.360656</td>\n",
              "      <td>17695.213115</td>\n",
              "      <td>24044.844262</td>\n",
              "      <td>16307.983607</td>\n",
              "      <td>11929.909836</td>\n",
              "      <td>0.0</td>\n",
              "      <td>0.0</td>\n",
              "      <td>6</td>\n",
              "    </tr>\n",
              "    <tr>\n",
              "      <th>1.0</th>\n",
              "      <th>1.0</th>\n",
              "      <td>40.098592</td>\n",
              "      <td>57.922535</td>\n",
              "      <td>25.802817</td>\n",
              "      <td>4.786495e+05</td>\n",
              "      <td>143226.676056</td>\n",
              "      <td>33745.852113</td>\n",
              "      <td>22900.570423</td>\n",
              "      <td>20389.788732</td>\n",
              "      <td>12891.563380</td>\n",
              "      <td>5174.669014</td>\n",
              "      <td>3662.007042</td>\n",
              "      <td>0.0</td>\n",
              "      <td>1.0</td>\n",
              "      <td>0</td>\n",
              "    </tr>\n",
              "    <tr>\n",
              "      <th>4.0</th>\n",
              "      <th>7.0</th>\n",
              "      <td>36.549180</td>\n",
              "      <td>49.295082</td>\n",
              "      <td>19.377049</td>\n",
              "      <td>4.462619e+05</td>\n",
              "      <td>124507.704918</td>\n",
              "      <td>27235.245902</td>\n",
              "      <td>23950.483607</td>\n",
              "      <td>20979.319672</td>\n",
              "      <td>17095.565574</td>\n",
              "      <td>15296.934426</td>\n",
              "      <td>10675.795082</td>\n",
              "      <td>1.0</td>\n",
              "      <td>1.0</td>\n",
              "      <td>0</td>\n",
              "    </tr>\n",
              "    <tr>\n",
              "      <th>8.0</th>\n",
              "      <th>5.0</th>\n",
              "      <td>33.308943</td>\n",
              "      <td>46.065041</td>\n",
              "      <td>28.650407</td>\n",
              "      <td>1.067592e+06</td>\n",
              "      <td>270415.024390</td>\n",
              "      <td>83950.829268</td>\n",
              "      <td>60555.910569</td>\n",
              "      <td>36328.211382</td>\n",
              "      <td>31721.609756</td>\n",
              "      <td>17284.463415</td>\n",
              "      <td>9374.422764</td>\n",
              "      <td>1.0</td>\n",
              "      <td>1.0</td>\n",
              "      <td>3</td>\n",
              "    </tr>\n",
              "    <tr>\n",
              "      <th>2.0</th>\n",
              "      <th>8.0</th>\n",
              "      <td>52.854962</td>\n",
              "      <td>58.541985</td>\n",
              "      <td>37.297710</td>\n",
              "      <td>3.105315e+04</td>\n",
              "      <td>19107.053435</td>\n",
              "      <td>6374.274809</td>\n",
              "      <td>6283.679389</td>\n",
              "      <td>6249.488550</td>\n",
              "      <td>6468.755725</td>\n",
              "      <td>3251.648855</td>\n",
              "      <td>2629.030534</td>\n",
              "      <td>1.0</td>\n",
              "      <td>1.0</td>\n",
              "      <td>2</td>\n",
              "    </tr>\n",
              "    <tr>\n",
              "      <th>9.0</th>\n",
              "      <th>3.0</th>\n",
              "      <td>42.655738</td>\n",
              "      <td>62.229508</td>\n",
              "      <td>32.786885</td>\n",
              "      <td>9.060951e+05</td>\n",
              "      <td>177976.139344</td>\n",
              "      <td>51609.540984</td>\n",
              "      <td>60842.155738</td>\n",
              "      <td>16642.508197</td>\n",
              "      <td>57442.540984</td>\n",
              "      <td>26716.606557</td>\n",
              "      <td>3339.778689</td>\n",
              "      <td>0.0</td>\n",
              "      <td>1.0</td>\n",
              "      <td>1</td>\n",
              "    </tr>\n",
              "    <tr>\n",
              "      <th>0.0</th>\n",
              "      <th>5.0</th>\n",
              "      <td>49.813008</td>\n",
              "      <td>41.048780</td>\n",
              "      <td>38.804878</td>\n",
              "      <td>9.352090e+05</td>\n",
              "      <td>282487.512195</td>\n",
              "      <td>70498.089431</td>\n",
              "      <td>40760.398374</td>\n",
              "      <td>28621.528455</td>\n",
              "      <td>41453.463415</td>\n",
              "      <td>54069.455285</td>\n",
              "      <td>22656.227642</td>\n",
              "      <td>1.0</td>\n",
              "      <td>1.0</td>\n",
              "      <td>3</td>\n",
              "    </tr>\n",
              "    <tr>\n",
              "      <th rowspan=\"2\" valign=\"top\">6.0</th>\n",
              "      <th>6.0</th>\n",
              "      <td>0.000000</td>\n",
              "      <td>0.000000</td>\n",
              "      <td>418.474138</td>\n",
              "      <td>7.939511e+05</td>\n",
              "      <td>247062.775862</td>\n",
              "      <td>42978.517241</td>\n",
              "      <td>75027.982759</td>\n",
              "      <td>61951.905172</td>\n",
              "      <td>159168.862069</td>\n",
              "      <td>146848.155172</td>\n",
              "      <td>66681.189655</td>\n",
              "      <td>1.0</td>\n",
              "      <td>1.0</td>\n",
              "      <td>1</td>\n",
              "    </tr>\n",
              "    <tr>\n",
              "      <th>5.0</th>\n",
              "      <td>0.000000</td>\n",
              "      <td>0.000000</td>\n",
              "      <td>395.211382</td>\n",
              "      <td>6.756300e+05</td>\n",
              "      <td>171916.975610</td>\n",
              "      <td>44623.520325</td>\n",
              "      <td>67194.674797</td>\n",
              "      <td>49157.894309</td>\n",
              "      <td>104084.016260</td>\n",
              "      <td>109254.373984</td>\n",
              "      <td>52460.349593</td>\n",
              "      <td>1.0</td>\n",
              "      <td>0.0</td>\n",
              "      <td>4</td>\n",
              "    </tr>\n",
              "    <tr>\n",
              "      <th>3.0</th>\n",
              "      <th>5.0</th>\n",
              "      <td>47.463415</td>\n",
              "      <td>52.300813</td>\n",
              "      <td>30.390244</td>\n",
              "      <td>7.262913e+05</td>\n",
              "      <td>191672.373984</td>\n",
              "      <td>35006.780488</td>\n",
              "      <td>22388.626016</td>\n",
              "      <td>21413.471545</td>\n",
              "      <td>14352.333333</td>\n",
              "      <td>8082.178862</td>\n",
              "      <td>5136.674797</td>\n",
              "      <td>1.0</td>\n",
              "      <td>0.0</td>\n",
              "      <td>4</td>\n",
              "    </tr>\n",
              "    <tr>\n",
              "      <th>1.0</th>\n",
              "      <th>6.0</th>\n",
              "      <td>46.427419</td>\n",
              "      <td>63.758065</td>\n",
              "      <td>31.645161</td>\n",
              "      <td>3.229612e+05</td>\n",
              "      <td>93126.895161</td>\n",
              "      <td>24797.395161</td>\n",
              "      <td>16542.129032</td>\n",
              "      <td>14936.120968</td>\n",
              "      <td>10119.395161</td>\n",
              "      <td>4401.411290</td>\n",
              "      <td>2985.185484</td>\n",
              "      <td>1.0</td>\n",
              "      <td>0.0</td>\n",
              "      <td>6</td>\n",
              "    </tr>\n",
              "    <tr>\n",
              "      <th>4.0</th>\n",
              "      <th>9.0</th>\n",
              "      <td>43.007634</td>\n",
              "      <td>55.167939</td>\n",
              "      <td>47.030534</td>\n",
              "      <td>2.633647e+05</td>\n",
              "      <td>83741.816794</td>\n",
              "      <td>26475.381679</td>\n",
              "      <td>13988.259542</td>\n",
              "      <td>10601.954198</td>\n",
              "      <td>10009.656489</td>\n",
              "      <td>6131.687023</td>\n",
              "      <td>5261.931298</td>\n",
              "      <td>1.0</td>\n",
              "      <td>0.0</td>\n",
              "      <td>6</td>\n",
              "    </tr>\n",
              "    <tr>\n",
              "      <th>3.0</th>\n",
              "      <th>4.0</th>\n",
              "      <td>34.368056</td>\n",
              "      <td>52.590278</td>\n",
              "      <td>35.194444</td>\n",
              "      <td>9.563802e+05</td>\n",
              "      <td>324912.583333</td>\n",
              "      <td>73579.263889</td>\n",
              "      <td>44603.229167</td>\n",
              "      <td>33291.118056</td>\n",
              "      <td>24861.694444</td>\n",
              "      <td>13403.972222</td>\n",
              "      <td>7603.034722</td>\n",
              "      <td>0.0</td>\n",
              "      <td>1.0</td>\n",
              "      <td>3</td>\n",
              "    </tr>\n",
              "    <tr>\n",
              "      <th>0.0</th>\n",
              "      <th>7.0</th>\n",
              "      <td>48.000000</td>\n",
              "      <td>50.241071</td>\n",
              "      <td>28.267857</td>\n",
              "      <td>4.779900e+05</td>\n",
              "      <td>114145.276786</td>\n",
              "      <td>25727.714286</td>\n",
              "      <td>16241.580357</td>\n",
              "      <td>15278.625000</td>\n",
              "      <td>37795.616071</td>\n",
              "      <td>36331.428571</td>\n",
              "      <td>13718.250000</td>\n",
              "      <td>1.0</td>\n",
              "      <td>0.0</td>\n",
              "      <td>0</td>\n",
              "    </tr>\n",
              "    <tr>\n",
              "      <th>9.0</th>\n",
              "      <th>5.0</th>\n",
              "      <td>49.813008</td>\n",
              "      <td>41.048780</td>\n",
              "      <td>38.804878</td>\n",
              "      <td>9.352090e+05</td>\n",
              "      <td>282487.512195</td>\n",
              "      <td>70498.089431</td>\n",
              "      <td>40760.398374</td>\n",
              "      <td>28621.528455</td>\n",
              "      <td>41453.463415</td>\n",
              "      <td>54069.455285</td>\n",
              "      <td>22656.227642</td>\n",
              "      <td>1.0</td>\n",
              "      <td>1.0</td>\n",
              "      <td>3</td>\n",
              "    </tr>\n",
              "    <tr>\n",
              "      <th>2.0</th>\n",
              "      <th>7.0</th>\n",
              "      <td>43.185841</td>\n",
              "      <td>61.637168</td>\n",
              "      <td>34.566372</td>\n",
              "      <td>1.034203e+05</td>\n",
              "      <td>23207.690265</td>\n",
              "      <td>9708.150442</td>\n",
              "      <td>9016.017699</td>\n",
              "      <td>10104.380531</td>\n",
              "      <td>10381.902655</td>\n",
              "      <td>6219.088496</td>\n",
              "      <td>5255.566372</td>\n",
              "      <td>1.0</td>\n",
              "      <td>1.0</td>\n",
              "      <td>2</td>\n",
              "    </tr>\n",
              "    <tr>\n",
              "      <th>1.0</th>\n",
              "      <th>9.0</th>\n",
              "      <td>48.350365</td>\n",
              "      <td>62.328467</td>\n",
              "      <td>26.364964</td>\n",
              "      <td>3.200013e+05</td>\n",
              "      <td>87977.080292</td>\n",
              "      <td>25621.839416</td>\n",
              "      <td>21975.525547</td>\n",
              "      <td>22294.875912</td>\n",
              "      <td>10122.357664</td>\n",
              "      <td>5109.262774</td>\n",
              "      <td>3392.751825</td>\n",
              "      <td>1.0</td>\n",
              "      <td>0.0</td>\n",
              "      <td>6</td>\n",
              "    </tr>\n",
              "    <tr>\n",
              "      <th>8.0</th>\n",
              "      <th>1.0</th>\n",
              "      <td>50.049296</td>\n",
              "      <td>64.415493</td>\n",
              "      <td>49.725352</td>\n",
              "      <td>6.069475e+05</td>\n",
              "      <td>160941.978873</td>\n",
              "      <td>36889.154930</td>\n",
              "      <td>26482.978873</td>\n",
              "      <td>18689.169014</td>\n",
              "      <td>18101.112676</td>\n",
              "      <td>11485.936620</td>\n",
              "      <td>8224.577465</td>\n",
              "      <td>0.0</td>\n",
              "      <td>0.0</td>\n",
              "      <td>4</td>\n",
              "    </tr>\n",
              "    <tr>\n",
              "      <th>2.0</th>\n",
              "      <th>5.0</th>\n",
              "      <td>77.024390</td>\n",
              "      <td>64.886179</td>\n",
              "      <td>43.991870</td>\n",
              "      <td>9.694011e+04</td>\n",
              "      <td>38518.951220</td>\n",
              "      <td>13135.284553</td>\n",
              "      <td>11523.105691</td>\n",
              "      <td>15234.991870</td>\n",
              "      <td>12903.845528</td>\n",
              "      <td>8437.260163</td>\n",
              "      <td>6483.878049</td>\n",
              "      <td>1.0</td>\n",
              "      <td>1.0</td>\n",
              "      <td>2</td>\n",
              "    </tr>\n",
              "    <tr>\n",
              "      <th>6.0</th>\n",
              "      <th>2.0</th>\n",
              "      <td>0.000000</td>\n",
              "      <td>0.000000</td>\n",
              "      <td>263.959016</td>\n",
              "      <td>5.845697e+05</td>\n",
              "      <td>225168.729508</td>\n",
              "      <td>38174.024590</td>\n",
              "      <td>39712.155738</td>\n",
              "      <td>47837.540984</td>\n",
              "      <td>276137.368852</td>\n",
              "      <td>241545.213115</td>\n",
              "      <td>82950.344262</td>\n",
              "      <td>0.0</td>\n",
              "      <td>0.0</td>\n",
              "      <td>5</td>\n",
              "    </tr>\n",
              "    <tr>\n",
              "      <th>1.0</th>\n",
              "      <th>3.0</th>\n",
              "      <td>15.905172</td>\n",
              "      <td>35.560345</td>\n",
              "      <td>35.810345</td>\n",
              "      <td>8.443296e+05</td>\n",
              "      <td>281278.853448</td>\n",
              "      <td>67715.224138</td>\n",
              "      <td>39676.775862</td>\n",
              "      <td>28128.543103</td>\n",
              "      <td>26739.603448</td>\n",
              "      <td>13088.482759</td>\n",
              "      <td>3338.301724</td>\n",
              "      <td>0.0</td>\n",
              "      <td>1.0</td>\n",
              "      <td>1</td>\n",
              "    </tr>\n",
              "    <tr>\n",
              "      <th>...</th>\n",
              "      <th>...</th>\n",
              "      <td>...</td>\n",
              "      <td>...</td>\n",
              "      <td>...</td>\n",
              "      <td>...</td>\n",
              "      <td>...</td>\n",
              "      <td>...</td>\n",
              "      <td>...</td>\n",
              "      <td>...</td>\n",
              "      <td>...</td>\n",
              "      <td>...</td>\n",
              "      <td>...</td>\n",
              "      <td>...</td>\n",
              "      <td>...</td>\n",
              "      <td>...</td>\n",
              "    </tr>\n",
              "    <tr>\n",
              "      <th>7.0</th>\n",
              "      <th>9.0</th>\n",
              "      <td>53.652542</td>\n",
              "      <td>54.194915</td>\n",
              "      <td>36.110169</td>\n",
              "      <td>2.718294e+05</td>\n",
              "      <td>76548.728814</td>\n",
              "      <td>19669.211864</td>\n",
              "      <td>15730.576271</td>\n",
              "      <td>20219.101695</td>\n",
              "      <td>31474.432203</td>\n",
              "      <td>23813.491525</td>\n",
              "      <td>16602.932203</td>\n",
              "      <td>1.0</td>\n",
              "      <td>0.0</td>\n",
              "      <td>6</td>\n",
              "    </tr>\n",
              "    <tr>\n",
              "      <th>4.0</th>\n",
              "      <th>1.0</th>\n",
              "      <td>42.563380</td>\n",
              "      <td>43.105634</td>\n",
              "      <td>44.598592</td>\n",
              "      <td>4.226388e+05</td>\n",
              "      <td>134631.943662</td>\n",
              "      <td>31888.774648</td>\n",
              "      <td>24468.542254</td>\n",
              "      <td>19608.922535</td>\n",
              "      <td>21044.880282</td>\n",
              "      <td>17380.767606</td>\n",
              "      <td>14074.866197</td>\n",
              "      <td>0.0</td>\n",
              "      <td>1.0</td>\n",
              "      <td>0</td>\n",
              "    </tr>\n",
              "    <tr>\n",
              "      <th>5.0</th>\n",
              "      <th>8.0</th>\n",
              "      <td>43.024194</td>\n",
              "      <td>50.830645</td>\n",
              "      <td>27.233871</td>\n",
              "      <td>8.729752e+05</td>\n",
              "      <td>263280.080645</td>\n",
              "      <td>56770.508065</td>\n",
              "      <td>34276.669355</td>\n",
              "      <td>32484.064516</td>\n",
              "      <td>21341.217742</td>\n",
              "      <td>11047.693548</td>\n",
              "      <td>4621.088710</td>\n",
              "      <td>1.0</td>\n",
              "      <td>1.0</td>\n",
              "      <td>1</td>\n",
              "    </tr>\n",
              "    <tr>\n",
              "      <th>4.0</th>\n",
              "      <th>8.0</th>\n",
              "      <td>36.633588</td>\n",
              "      <td>50.709924</td>\n",
              "      <td>39.641221</td>\n",
              "      <td>3.628135e+05</td>\n",
              "      <td>110029.900763</td>\n",
              "      <td>24901.870229</td>\n",
              "      <td>21531.213740</td>\n",
              "      <td>17510.221374</td>\n",
              "      <td>16318.152672</td>\n",
              "      <td>10363.687023</td>\n",
              "      <td>7859.381679</td>\n",
              "      <td>1.0</td>\n",
              "      <td>1.0</td>\n",
              "      <td>6</td>\n",
              "    </tr>\n",
              "    <tr>\n",
              "      <th>9.0</th>\n",
              "      <th>8.0</th>\n",
              "      <td>55.548387</td>\n",
              "      <td>52.879032</td>\n",
              "      <td>29.564516</td>\n",
              "      <td>9.144155e+05</td>\n",
              "      <td>198926.048387</td>\n",
              "      <td>42279.814516</td>\n",
              "      <td>25929.185484</td>\n",
              "      <td>20326.217742</td>\n",
              "      <td>36773.443548</td>\n",
              "      <td>45424.588710</td>\n",
              "      <td>17554.927419</td>\n",
              "      <td>1.0</td>\n",
              "      <td>1.0</td>\n",
              "      <td>1</td>\n",
              "    </tr>\n",
              "    <tr>\n",
              "      <th>5.0</th>\n",
              "      <th>7.0</th>\n",
              "      <td>49.867257</td>\n",
              "      <td>52.150442</td>\n",
              "      <td>30.469027</td>\n",
              "      <td>6.374384e+05</td>\n",
              "      <td>152505.053097</td>\n",
              "      <td>37328.221239</td>\n",
              "      <td>31966.070796</td>\n",
              "      <td>14104.380531</td>\n",
              "      <td>20554.911504</td>\n",
              "      <td>12368.132743</td>\n",
              "      <td>2518.831858</td>\n",
              "      <td>1.0</td>\n",
              "      <td>0.0</td>\n",
              "      <td>4</td>\n",
              "    </tr>\n",
              "    <tr>\n",
              "      <th>7.0</th>\n",
              "      <th>5.0</th>\n",
              "      <td>28.585366</td>\n",
              "      <td>54.203252</td>\n",
              "      <td>35.235772</td>\n",
              "      <td>8.780163e+05</td>\n",
              "      <td>197816.073171</td>\n",
              "      <td>50010.162602</td>\n",
              "      <td>30918.186992</td>\n",
              "      <td>22344.227642</td>\n",
              "      <td>26939.658537</td>\n",
              "      <td>24830.504065</td>\n",
              "      <td>16559.390244</td>\n",
              "      <td>1.0</td>\n",
              "      <td>1.0</td>\n",
              "      <td>1</td>\n",
              "    </tr>\n",
              "    <tr>\n",
              "      <th>3.0</th>\n",
              "      <th>2.0</th>\n",
              "      <td>62.206897</td>\n",
              "      <td>51.301724</td>\n",
              "      <td>36.379310</td>\n",
              "      <td>6.555848e+05</td>\n",
              "      <td>132953.120690</td>\n",
              "      <td>27535.353448</td>\n",
              "      <td>19943.301724</td>\n",
              "      <td>15396.965517</td>\n",
              "      <td>14293.318966</td>\n",
              "      <td>7592.112069</td>\n",
              "      <td>4698.336207</td>\n",
              "      <td>0.0</td>\n",
              "      <td>0.0</td>\n",
              "      <td>4</td>\n",
              "    </tr>\n",
              "    <tr>\n",
              "      <th>9.0</th>\n",
              "      <th>4.0</th>\n",
              "      <td>38.913793</td>\n",
              "      <td>50.422414</td>\n",
              "      <td>46.750000</td>\n",
              "      <td>8.619048e+05</td>\n",
              "      <td>159156.586207</td>\n",
              "      <td>57424.250000</td>\n",
              "      <td>46757.525862</td>\n",
              "      <td>25228.646552</td>\n",
              "      <td>52089.982759</td>\n",
              "      <td>26346.448276</td>\n",
              "      <td>3777.818966</td>\n",
              "      <td>0.0</td>\n",
              "      <td>1.0</td>\n",
              "      <td>1</td>\n",
              "    </tr>\n",
              "    <tr>\n",
              "      <th>5.0</th>\n",
              "      <th>9.0</th>\n",
              "      <td>47.073770</td>\n",
              "      <td>56.770492</td>\n",
              "      <td>40.770492</td>\n",
              "      <td>5.004124e+05</td>\n",
              "      <td>164886.500000</td>\n",
              "      <td>39462.426230</td>\n",
              "      <td>29154.983607</td>\n",
              "      <td>15730.598361</td>\n",
              "      <td>21443.196721</td>\n",
              "      <td>12900.508197</td>\n",
              "      <td>2240.991803</td>\n",
              "      <td>1.0</td>\n",
              "      <td>0.0</td>\n",
              "      <td>0</td>\n",
              "    </tr>\n",
              "    <tr>\n",
              "      <th>6.0</th>\n",
              "      <th>3.0</th>\n",
              "      <td>0.000000</td>\n",
              "      <td>0.000000</td>\n",
              "      <td>355.336207</td>\n",
              "      <td>8.554903e+05</td>\n",
              "      <td>342884.922414</td>\n",
              "      <td>125175.672414</td>\n",
              "      <td>131039.500000</td>\n",
              "      <td>96779.896552</td>\n",
              "      <td>130072.508621</td>\n",
              "      <td>92971.060345</td>\n",
              "      <td>88753.534483</td>\n",
              "      <td>0.0</td>\n",
              "      <td>1.0</td>\n",
              "      <td>3</td>\n",
              "    </tr>\n",
              "    <tr>\n",
              "      <th>8.0</th>\n",
              "      <th>4.0</th>\n",
              "      <td>34.368056</td>\n",
              "      <td>52.590278</td>\n",
              "      <td>35.194444</td>\n",
              "      <td>9.563802e+05</td>\n",
              "      <td>324912.583333</td>\n",
              "      <td>73579.263889</td>\n",
              "      <td>44603.229167</td>\n",
              "      <td>33291.118056</td>\n",
              "      <td>24861.694444</td>\n",
              "      <td>13403.972222</td>\n",
              "      <td>7603.034722</td>\n",
              "      <td>0.0</td>\n",
              "      <td>1.0</td>\n",
              "      <td>3</td>\n",
              "    </tr>\n",
              "    <tr>\n",
              "      <th>3.0</th>\n",
              "      <th>7.0</th>\n",
              "      <td>46.572581</td>\n",
              "      <td>45.000000</td>\n",
              "      <td>20.491935</td>\n",
              "      <td>8.431812e+05</td>\n",
              "      <td>235449.814516</td>\n",
              "      <td>52773.612903</td>\n",
              "      <td>25378.741935</td>\n",
              "      <td>23204.427419</td>\n",
              "      <td>16428.080645</td>\n",
              "      <td>9439.862903</td>\n",
              "      <td>5878.290323</td>\n",
              "      <td>1.0</td>\n",
              "      <td>1.0</td>\n",
              "      <td>1</td>\n",
              "    </tr>\n",
              "    <tr>\n",
              "      <th>2.0</th>\n",
              "      <th>9.0</th>\n",
              "      <td>42.175182</td>\n",
              "      <td>65.051095</td>\n",
              "      <td>33.452555</td>\n",
              "      <td>3.009636e+04</td>\n",
              "      <td>17538.700730</td>\n",
              "      <td>7317.204380</td>\n",
              "      <td>7279.430657</td>\n",
              "      <td>6116.343066</td>\n",
              "      <td>5714.262774</td>\n",
              "      <td>2496.897810</td>\n",
              "      <td>2083.167883</td>\n",
              "      <td>1.0</td>\n",
              "      <td>0.0</td>\n",
              "      <td>2</td>\n",
              "    </tr>\n",
              "    <tr>\n",
              "      <th>0.0</th>\n",
              "      <th>1.0</th>\n",
              "      <td>43.621429</td>\n",
              "      <td>48.621429</td>\n",
              "      <td>28.800000</td>\n",
              "      <td>7.397373e+05</td>\n",
              "      <td>161064.228571</td>\n",
              "      <td>34918.028571</td>\n",
              "      <td>25078.935714</td>\n",
              "      <td>22157.307143</td>\n",
              "      <td>37410.728571</td>\n",
              "      <td>36758.700000</td>\n",
              "      <td>14519.407143</td>\n",
              "      <td>0.0</td>\n",
              "      <td>1.0</td>\n",
              "      <td>4</td>\n",
              "    </tr>\n",
              "    <tr>\n",
              "      <th>5.0</th>\n",
              "      <th>2.0</th>\n",
              "      <td>48.239437</td>\n",
              "      <td>59.852113</td>\n",
              "      <td>31.936620</td>\n",
              "      <td>8.467073e+05</td>\n",
              "      <td>276656.169014</td>\n",
              "      <td>68991.140845</td>\n",
              "      <td>48244.154930</td>\n",
              "      <td>33321.746479</td>\n",
              "      <td>28736.330986</td>\n",
              "      <td>15604.845070</td>\n",
              "      <td>5812.626761</td>\n",
              "      <td>0.0</td>\n",
              "      <td>1.0</td>\n",
              "      <td>1</td>\n",
              "    </tr>\n",
              "    <tr>\n",
              "      <th>2.0</th>\n",
              "      <th>1.0</th>\n",
              "      <td>56.781690</td>\n",
              "      <td>60.077465</td>\n",
              "      <td>31.084507</td>\n",
              "      <td>3.794893e+04</td>\n",
              "      <td>17893.126761</td>\n",
              "      <td>7904.915493</td>\n",
              "      <td>9252.746479</td>\n",
              "      <td>6136.183099</td>\n",
              "      <td>7154.845070</td>\n",
              "      <td>3491.408451</td>\n",
              "      <td>2495.612676</td>\n",
              "      <td>0.0</td>\n",
              "      <td>1.0</td>\n",
              "      <td>2</td>\n",
              "    </tr>\n",
              "    <tr>\n",
              "      <th>0.0</th>\n",
              "      <th>2.0</th>\n",
              "      <td>43.978873</td>\n",
              "      <td>47.316901</td>\n",
              "      <td>13.154930</td>\n",
              "      <td>6.940781e+05</td>\n",
              "      <td>149816.873239</td>\n",
              "      <td>30493.873239</td>\n",
              "      <td>21667.591549</td>\n",
              "      <td>21888.338028</td>\n",
              "      <td>36446.436620</td>\n",
              "      <td>33908.873239</td>\n",
              "      <td>14545.845070</td>\n",
              "      <td>0.0</td>\n",
              "      <td>1.0</td>\n",
              "      <td>4</td>\n",
              "    </tr>\n",
              "    <tr>\n",
              "      <th>2.0</th>\n",
              "      <th>3.0</th>\n",
              "      <td>42.500000</td>\n",
              "      <td>62.948276</td>\n",
              "      <td>36.008621</td>\n",
              "      <td>1.721556e+04</td>\n",
              "      <td>15320.431034</td>\n",
              "      <td>6635.698276</td>\n",
              "      <td>6400.965517</td>\n",
              "      <td>5858.879310</td>\n",
              "      <td>5187.362069</td>\n",
              "      <td>2585.198276</td>\n",
              "      <td>1771.465517</td>\n",
              "      <td>0.0</td>\n",
              "      <td>0.0</td>\n",
              "      <td>2</td>\n",
              "    </tr>\n",
              "    <tr>\n",
              "      <th>8.0</th>\n",
              "      <th>7.0</th>\n",
              "      <td>50.934426</td>\n",
              "      <td>48.352459</td>\n",
              "      <td>44.155738</td>\n",
              "      <td>7.870033e+05</td>\n",
              "      <td>203572.573770</td>\n",
              "      <td>34403.098361</td>\n",
              "      <td>26265.598361</td>\n",
              "      <td>20524.516393</td>\n",
              "      <td>19070.286885</td>\n",
              "      <td>14847.475410</td>\n",
              "      <td>8961.475410</td>\n",
              "      <td>1.0</td>\n",
              "      <td>0.0</td>\n",
              "      <td>1</td>\n",
              "    </tr>\n",
              "    <tr>\n",
              "      <th>9.0</th>\n",
              "      <th>1.0</th>\n",
              "      <td>58.057143</td>\n",
              "      <td>41.114286</td>\n",
              "      <td>33.678571</td>\n",
              "      <td>8.133599e+05</td>\n",
              "      <td>99995.650000</td>\n",
              "      <td>38474.071429</td>\n",
              "      <td>39763.371429</td>\n",
              "      <td>15116.057143</td>\n",
              "      <td>73006.292857</td>\n",
              "      <td>14934.307143</td>\n",
              "      <td>2898.185714</td>\n",
              "      <td>0.0</td>\n",
              "      <td>0.0</td>\n",
              "      <td>1</td>\n",
              "    </tr>\n",
              "    <tr>\n",
              "      <th>7.0</th>\n",
              "      <th>4.0</th>\n",
              "      <td>50.423611</td>\n",
              "      <td>47.361111</td>\n",
              "      <td>28.486111</td>\n",
              "      <td>4.618546e+05</td>\n",
              "      <td>112684.250000</td>\n",
              "      <td>23718.222222</td>\n",
              "      <td>18676.520833</td>\n",
              "      <td>17574.326389</td>\n",
              "      <td>29320.687500</td>\n",
              "      <td>21118.541667</td>\n",
              "      <td>16284.222222</td>\n",
              "      <td>0.0</td>\n",
              "      <td>1.0</td>\n",
              "      <td>0</td>\n",
              "    </tr>\n",
              "    <tr>\n",
              "      <th rowspan=\"2\" valign=\"top\">8.0</th>\n",
              "      <th>6.0</th>\n",
              "      <td>47.758065</td>\n",
              "      <td>46.241935</td>\n",
              "      <td>36.443548</td>\n",
              "      <td>8.405013e+05</td>\n",
              "      <td>215770.806452</td>\n",
              "      <td>41204.403226</td>\n",
              "      <td>28295.032258</td>\n",
              "      <td>19717.798387</td>\n",
              "      <td>19203.129032</td>\n",
              "      <td>12393.241935</td>\n",
              "      <td>9090.250000</td>\n",
              "      <td>1.0</td>\n",
              "      <td>0.0</td>\n",
              "      <td>1</td>\n",
              "    </tr>\n",
              "    <tr>\n",
              "      <th>2.0</th>\n",
              "      <td>52.918033</td>\n",
              "      <td>49.926230</td>\n",
              "      <td>40.754098</td>\n",
              "      <td>6.187019e+05</td>\n",
              "      <td>169918.295082</td>\n",
              "      <td>37338.942623</td>\n",
              "      <td>24467.491803</td>\n",
              "      <td>15811.918033</td>\n",
              "      <td>15556.180328</td>\n",
              "      <td>11530.188525</td>\n",
              "      <td>6618.385246</td>\n",
              "      <td>0.0</td>\n",
              "      <td>0.0</td>\n",
              "      <td>4</td>\n",
              "    </tr>\n",
              "    <tr>\n",
              "      <th>2.0</th>\n",
              "      <th>0.0</th>\n",
              "      <td>61.007143</td>\n",
              "      <td>53.342857</td>\n",
              "      <td>31.050000</td>\n",
              "      <td>1.424224e+04</td>\n",
              "      <td>14054.807143</td>\n",
              "      <td>5972.600000</td>\n",
              "      <td>6495.471429</td>\n",
              "      <td>5498.307143</td>\n",
              "      <td>6129.835714</td>\n",
              "      <td>3283.642857</td>\n",
              "      <td>2811.507143</td>\n",
              "      <td>0.0</td>\n",
              "      <td>0.0</td>\n",
              "      <td>2</td>\n",
              "    </tr>\n",
              "    <tr>\n",
              "      <th>6.0</th>\n",
              "      <th>0.0</th>\n",
              "      <td>0.000000</td>\n",
              "      <td>0.000000</td>\n",
              "      <td>367.642857</td>\n",
              "      <td>8.075458e+05</td>\n",
              "      <td>401609.450000</td>\n",
              "      <td>112919.500000</td>\n",
              "      <td>141040.735714</td>\n",
              "      <td>81007.964286</td>\n",
              "      <td>112267.421429</td>\n",
              "      <td>73135.285714</td>\n",
              "      <td>79095.264286</td>\n",
              "      <td>0.0</td>\n",
              "      <td>1.0</td>\n",
              "      <td>3</td>\n",
              "    </tr>\n",
              "    <tr>\n",
              "      <th>7.0</th>\n",
              "      <th>1.0</th>\n",
              "      <td>43.218310</td>\n",
              "      <td>51.957746</td>\n",
              "      <td>40.866197</td>\n",
              "      <td>8.260565e+05</td>\n",
              "      <td>171766.176056</td>\n",
              "      <td>38770.387324</td>\n",
              "      <td>24259.908451</td>\n",
              "      <td>17013.838028</td>\n",
              "      <td>25105.711268</td>\n",
              "      <td>22331.887324</td>\n",
              "      <td>16002.302817</td>\n",
              "      <td>0.0</td>\n",
              "      <td>1.0</td>\n",
              "      <td>1</td>\n",
              "    </tr>\n",
              "    <tr>\n",
              "      <th>1.0</th>\n",
              "      <th>4.0</th>\n",
              "      <td>46.868056</td>\n",
              "      <td>59.861111</td>\n",
              "      <td>31.652778</td>\n",
              "      <td>4.020744e+05</td>\n",
              "      <td>140224.916667</td>\n",
              "      <td>32657.000000</td>\n",
              "      <td>26385.076389</td>\n",
              "      <td>24590.437500</td>\n",
              "      <td>15990.791667</td>\n",
              "      <td>10063.416667</td>\n",
              "      <td>7354.125000</td>\n",
              "      <td>0.0</td>\n",
              "      <td>1.0</td>\n",
              "      <td>0</td>\n",
              "    </tr>\n",
              "    <tr>\n",
              "      <th>9.0</th>\n",
              "      <th>2.0</th>\n",
              "      <td>39.774648</td>\n",
              "      <td>56.605634</td>\n",
              "      <td>24.246479</td>\n",
              "      <td>8.475882e+05</td>\n",
              "      <td>161300.570423</td>\n",
              "      <td>50134.718310</td>\n",
              "      <td>44347.225352</td>\n",
              "      <td>17367.654930</td>\n",
              "      <td>33030.211268</td>\n",
              "      <td>21633.661972</td>\n",
              "      <td>3262.140845</td>\n",
              "      <td>0.0</td>\n",
              "      <td>0.0</td>\n",
              "      <td>1</td>\n",
              "    </tr>\n",
              "    <tr>\n",
              "      <th>5.0</th>\n",
              "      <th>1.0</th>\n",
              "      <td>51.750000</td>\n",
              "      <td>48.900000</td>\n",
              "      <td>33.642857</td>\n",
              "      <td>8.600894e+05</td>\n",
              "      <td>253079.792857</td>\n",
              "      <td>54032.192857</td>\n",
              "      <td>34291.421429</td>\n",
              "      <td>34197.292857</td>\n",
              "      <td>23592.342857</td>\n",
              "      <td>12221.335714</td>\n",
              "      <td>4892.935714</td>\n",
              "      <td>0.0</td>\n",
              "      <td>1.0</td>\n",
              "      <td>1</td>\n",
              "    </tr>\n",
              "  </tbody>\n",
              "</table>\n",
              "<p>80 rows × 14 columns</p>\n",
              "</div>"
            ],
            "text/plain": [
              "               Attention  Meditation         Raw  ...  exp  obs  cluster_kmeans\n",
              "Subject Video                                     ...                          \n",
              "5.0     5.0    46.829268   55.674797   28.617886  ...  1.0  1.0               3\n",
              "8.0     8.0    36.938931   47.885496   27.580153  ...  1.0  1.0               3\n",
              "2.0     6.0    55.689655   55.732759   32.353448  ...  1.0  0.0               2\n",
              "4.0     2.0    47.393443   62.540984   30.983607  ...  0.0  1.0               0\n",
              "6.0     9.0     0.000000    0.000000  300.868613  ...  1.0  0.0               1\n",
              "1.0     5.0    63.650407   58.186992   35.333333  ...  1.0  0.0               6\n",
              "4.0     0.0    54.357143   51.650000   60.157143  ...  0.0  0.0               6\n",
              "9.0     6.0    29.620690   53.293103   16.543103  ...  1.0  0.0               1\n",
              "0.0     9.0    49.934426   47.270492   37.286885  ...  1.0  0.0               4\n",
              "7.0     2.0    56.073770   48.778689   31.950820  ...  0.0  0.0               6\n",
              "1.0     1.0    40.098592   57.922535   25.802817  ...  0.0  1.0               0\n",
              "4.0     7.0    36.549180   49.295082   19.377049  ...  1.0  1.0               0\n",
              "8.0     5.0    33.308943   46.065041   28.650407  ...  1.0  1.0               3\n",
              "2.0     8.0    52.854962   58.541985   37.297710  ...  1.0  1.0               2\n",
              "9.0     3.0    42.655738   62.229508   32.786885  ...  0.0  1.0               1\n",
              "0.0     5.0    49.813008   41.048780   38.804878  ...  1.0  1.0               3\n",
              "6.0     6.0     0.000000    0.000000  418.474138  ...  1.0  1.0               1\n",
              "        5.0     0.000000    0.000000  395.211382  ...  1.0  0.0               4\n",
              "3.0     5.0    47.463415   52.300813   30.390244  ...  1.0  0.0               4\n",
              "1.0     6.0    46.427419   63.758065   31.645161  ...  1.0  0.0               6\n",
              "4.0     9.0    43.007634   55.167939   47.030534  ...  1.0  0.0               6\n",
              "3.0     4.0    34.368056   52.590278   35.194444  ...  0.0  1.0               3\n",
              "0.0     7.0    48.000000   50.241071   28.267857  ...  1.0  0.0               0\n",
              "9.0     5.0    49.813008   41.048780   38.804878  ...  1.0  1.0               3\n",
              "2.0     7.0    43.185841   61.637168   34.566372  ...  1.0  1.0               2\n",
              "1.0     9.0    48.350365   62.328467   26.364964  ...  1.0  0.0               6\n",
              "8.0     1.0    50.049296   64.415493   49.725352  ...  0.0  0.0               4\n",
              "2.0     5.0    77.024390   64.886179   43.991870  ...  1.0  1.0               2\n",
              "6.0     2.0     0.000000    0.000000  263.959016  ...  0.0  0.0               5\n",
              "1.0     3.0    15.905172   35.560345   35.810345  ...  0.0  1.0               1\n",
              "...                  ...         ...         ...  ...  ...  ...             ...\n",
              "7.0     9.0    53.652542   54.194915   36.110169  ...  1.0  0.0               6\n",
              "4.0     1.0    42.563380   43.105634   44.598592  ...  0.0  1.0               0\n",
              "5.0     8.0    43.024194   50.830645   27.233871  ...  1.0  1.0               1\n",
              "4.0     8.0    36.633588   50.709924   39.641221  ...  1.0  1.0               6\n",
              "9.0     8.0    55.548387   52.879032   29.564516  ...  1.0  1.0               1\n",
              "5.0     7.0    49.867257   52.150442   30.469027  ...  1.0  0.0               4\n",
              "7.0     5.0    28.585366   54.203252   35.235772  ...  1.0  1.0               1\n",
              "3.0     2.0    62.206897   51.301724   36.379310  ...  0.0  0.0               4\n",
              "9.0     4.0    38.913793   50.422414   46.750000  ...  0.0  1.0               1\n",
              "5.0     9.0    47.073770   56.770492   40.770492  ...  1.0  0.0               0\n",
              "6.0     3.0     0.000000    0.000000  355.336207  ...  0.0  1.0               3\n",
              "8.0     4.0    34.368056   52.590278   35.194444  ...  0.0  1.0               3\n",
              "3.0     7.0    46.572581   45.000000   20.491935  ...  1.0  1.0               1\n",
              "2.0     9.0    42.175182   65.051095   33.452555  ...  1.0  0.0               2\n",
              "0.0     1.0    43.621429   48.621429   28.800000  ...  0.0  1.0               4\n",
              "5.0     2.0    48.239437   59.852113   31.936620  ...  0.0  1.0               1\n",
              "2.0     1.0    56.781690   60.077465   31.084507  ...  0.0  1.0               2\n",
              "0.0     2.0    43.978873   47.316901   13.154930  ...  0.0  1.0               4\n",
              "2.0     3.0    42.500000   62.948276   36.008621  ...  0.0  0.0               2\n",
              "8.0     7.0    50.934426   48.352459   44.155738  ...  1.0  0.0               1\n",
              "9.0     1.0    58.057143   41.114286   33.678571  ...  0.0  0.0               1\n",
              "7.0     4.0    50.423611   47.361111   28.486111  ...  0.0  1.0               0\n",
              "8.0     6.0    47.758065   46.241935   36.443548  ...  1.0  0.0               1\n",
              "        2.0    52.918033   49.926230   40.754098  ...  0.0  0.0               4\n",
              "2.0     0.0    61.007143   53.342857   31.050000  ...  0.0  0.0               2\n",
              "6.0     0.0     0.000000    0.000000  367.642857  ...  0.0  1.0               3\n",
              "7.0     1.0    43.218310   51.957746   40.866197  ...  0.0  1.0               1\n",
              "1.0     4.0    46.868056   59.861111   31.652778  ...  0.0  1.0               0\n",
              "9.0     2.0    39.774648   56.605634   24.246479  ...  0.0  0.0               1\n",
              "5.0     1.0    51.750000   48.900000   33.642857  ...  0.0  1.0               1\n",
              "\n",
              "[80 rows x 14 columns]"
            ]
          },
          "metadata": {
            "tags": []
          },
          "execution_count": 23
        }
      ]
    },
    {
      "cell_type": "markdown",
      "metadata": {
        "id": "eSqP5Sy8Ni8I",
        "colab_type": "text"
      },
      "source": [
        "I tried to using this clustering for 2 classes."
      ]
    },
    {
      "cell_type": "code",
      "metadata": {
        "id": "5oFffG7eNdF3",
        "colab_type": "code",
        "outputId": "f0697031-dfbe-4318-bccc-cbebb683a734",
        "colab": {
          "base_uri": "https://localhost:8080/",
          "height": 72
        }
      },
      "source": [
        "kmeans_ = KMeans(n_clusters=2)\n",
        "kmeans_.fit(X_train, y_train)"
      ],
      "execution_count": 0,
      "outputs": [
        {
          "output_type": "execute_result",
          "data": {
            "text/plain": [
              "KMeans(algorithm='auto', copy_x=True, init='k-means++', max_iter=300,\n",
              "       n_clusters=2, n_init=10, n_jobs=None, precompute_distances='auto',\n",
              "       random_state=None, tol=0.0001, verbose=0)"
            ]
          },
          "metadata": {
            "tags": []
          },
          "execution_count": 24
        }
      ]
    },
    {
      "cell_type": "code",
      "metadata": {
        "id": "OY1AxKV0ORg_",
        "colab_type": "code",
        "outputId": "ed5cf287-37ca-487c-df90-ac3e30fc4c0f",
        "colab": {
          "base_uri": "https://localhost:8080/",
          "height": 54
        }
      },
      "source": [
        "kmeans_pred = kmeans_.predict(X_train)\n",
        "kmeans_acc = accuracy_score(y_train, kmeans_pred)\n",
        "print('Number of accuracy')\n",
        "kmeans_acc"
      ],
      "execution_count": 0,
      "outputs": [
        {
          "output_type": "stream",
          "text": [
            "Number of accuracy\n"
          ],
          "name": "stdout"
        },
        {
          "output_type": "execute_result",
          "data": {
            "text/plain": [
              "0.425"
            ]
          },
          "metadata": {
            "tags": []
          },
          "execution_count": 25
        }
      ]
    },
    {
      "cell_type": "code",
      "metadata": {
        "id": "iKgXYPW5Ok0N",
        "colab_type": "code",
        "outputId": "244493b0-578a-4fe8-e57d-6df98e8bd1af",
        "colab": {
          "base_uri": "https://localhost:8080/",
          "height": 54
        }
      },
      "source": [
        "kmeans_test= kmeans_.predict(X_test)\n",
        "acc_kmeans = accuracy_score(y_test, kmeans_test)\n",
        "print('Number of accuracy')\n",
        "acc_kmeans"
      ],
      "execution_count": 0,
      "outputs": [
        {
          "output_type": "stream",
          "text": [
            "Number of accuracy\n"
          ],
          "name": "stdout"
        },
        {
          "output_type": "execute_result",
          "data": {
            "text/plain": [
              "0.25"
            ]
          },
          "metadata": {
            "tags": []
          },
          "execution_count": 26
        }
      ]
    },
    {
      "cell_type": "markdown",
      "metadata": {
        "id": "-rdCLiVVShq5",
        "colab_type": "text"
      },
      "source": [
        "Gaussian Mixture Models"
      ]
    },
    {
      "cell_type": "code",
      "metadata": {
        "id": "sKlAF48TShOZ",
        "colab_type": "code",
        "colab": {}
      },
      "source": [
        "gmm_clus = gmm.fit_predict(X_train, y_train)"
      ],
      "execution_count": 0,
      "outputs": []
    },
    {
      "cell_type": "code",
      "metadata": {
        "id": "Sq23XIZiSt21",
        "colab_type": "code",
        "colab": {}
      },
      "source": [
        "cluster = {}\n",
        "for i in X_train:\n",
        "    cluster[i] = X_train[i]\n",
        "\n",
        "cluster['cluster_gmm'] = gmm_clus\n",
        "cluster_data2 = pd.DataFrame(cluster, index=X_train.index)"
      ],
      "execution_count": 0,
      "outputs": []
    },
    {
      "cell_type": "code",
      "metadata": {
        "id": "NnXU-J5rz_6b",
        "colab_type": "code",
        "outputId": "289f2a4e-a22a-41a6-b8a7-6be61bf875b3",
        "colab": {
          "base_uri": "https://localhost:8080/",
          "height": 437
        }
      },
      "source": [
        "fig, ax = plt.subplots(figsize=(12,6))\n",
        "cluster_data2.groupby(['Video','cluster_gmm']).count()['Raw'].unstack().plot(ax=ax)\n",
        "ax.set_xlabel('Video ID')\n",
        "ax.set_ylabel('Raw Signal')"
      ],
      "execution_count": 0,
      "outputs": [
        {
          "output_type": "execute_result",
          "data": {
            "text/plain": [
              "Text(0, 0.5, 'Raw Signal')"
            ]
          },
          "metadata": {
            "tags": []
          },
          "execution_count": 29
        },
        {
          "output_type": "display_data",
          "data": {
            "image/png": "[encoded data removed]",
            "text/plain": [
              "<Figure size 864x432 with 1 Axes>"
            ]
          },
          "metadata": {
            "tags": []
          }
        }
      ]
    },
    {
      "cell_type": "code",
      "metadata": {
        "id": "4sBaiKmyS4WI",
        "colab_type": "code",
        "outputId": "de463794-21b7-4df1-a04a-8ac60a9f70c5",
        "colab": {
          "base_uri": "https://localhost:8080/",
          "height": 1000
        }
      },
      "source": [
        "cluster_data2.head(100)"
      ],
      "execution_count": 0,
      "outputs": [
        {
          "output_type": "execute_result",
          "data": {
            "text/html": [
              "<div>\n",
              "<style scoped>\n",
              "    .dataframe tbody tr th:only-of-type {\n",
              "        vertical-align: middle;\n",
              "    }\n",
              "\n",
              "    .dataframe tbody tr th {\n",
              "        vertical-align: top;\n",
              "    }\n",
              "\n",
              "    .dataframe thead th {\n",
              "        text-align: right;\n",
              "    }\n",
              "</style>\n",
              "<table border=\"1\" class=\"dataframe\">\n",
              "  <thead>\n",
              "    <tr style=\"text-align: right;\">\n",
              "      <th></th>\n",
              "      <th></th>\n",
              "      <th>Attention</th>\n",
              "      <th>Meditation</th>\n",
              "      <th>Raw</th>\n",
              "      <th>Delta</th>\n",
              "      <th>Theta</th>\n",
              "      <th>Alpha1</th>\n",
              "      <th>Alpha2</th>\n",
              "      <th>Beta1</th>\n",
              "      <th>Beta2</th>\n",
              "      <th>Gamma1</th>\n",
              "      <th>Gamma2</th>\n",
              "      <th>exp</th>\n",
              "      <th>obs</th>\n",
              "      <th>cluster_gmm</th>\n",
              "    </tr>\n",
              "    <tr>\n",
              "      <th>Subject</th>\n",
              "      <th>Video</th>\n",
              "      <th></th>\n",
              "      <th></th>\n",
              "      <th></th>\n",
              "      <th></th>\n",
              "      <th></th>\n",
              "      <th></th>\n",
              "      <th></th>\n",
              "      <th></th>\n",
              "      <th></th>\n",
              "      <th></th>\n",
              "      <th></th>\n",
              "      <th></th>\n",
              "      <th></th>\n",
              "      <th></th>\n",
              "    </tr>\n",
              "  </thead>\n",
              "  <tbody>\n",
              "    <tr>\n",
              "      <th>5.0</th>\n",
              "      <th>5.0</th>\n",
              "      <td>46.829268</td>\n",
              "      <td>55.674797</td>\n",
              "      <td>28.617886</td>\n",
              "      <td>8.367144e+05</td>\n",
              "      <td>323949.235772</td>\n",
              "      <td>85223.853659</td>\n",
              "      <td>56618.000000</td>\n",
              "      <td>41177.894309</td>\n",
              "      <td>31127.382114</td>\n",
              "      <td>16967.357724</td>\n",
              "      <td>5347.447154</td>\n",
              "      <td>1.0</td>\n",
              "      <td>1.0</td>\n",
              "      <td>0</td>\n",
              "    </tr>\n",
              "    <tr>\n",
              "      <th>8.0</th>\n",
              "      <th>8.0</th>\n",
              "      <td>36.938931</td>\n",
              "      <td>47.885496</td>\n",
              "      <td>27.580153</td>\n",
              "      <td>9.706778e+05</td>\n",
              "      <td>298036.244275</td>\n",
              "      <td>85597.312977</td>\n",
              "      <td>72016.916031</td>\n",
              "      <td>37478.763359</td>\n",
              "      <td>45701.702290</td>\n",
              "      <td>33887.755725</td>\n",
              "      <td>16773.381679</td>\n",
              "      <td>1.0</td>\n",
              "      <td>1.0</td>\n",
              "      <td>0</td>\n",
              "    </tr>\n",
              "    <tr>\n",
              "      <th>2.0</th>\n",
              "      <th>6.0</th>\n",
              "      <td>55.689655</td>\n",
              "      <td>55.732759</td>\n",
              "      <td>32.353448</td>\n",
              "      <td>1.713111e+04</td>\n",
              "      <td>12021.172414</td>\n",
              "      <td>5660.896552</td>\n",
              "      <td>6346.620690</td>\n",
              "      <td>5865.491379</td>\n",
              "      <td>6265.732759</td>\n",
              "      <td>2702.189655</td>\n",
              "      <td>2364.241379</td>\n",
              "      <td>1.0</td>\n",
              "      <td>0.0</td>\n",
              "      <td>2</td>\n",
              "    </tr>\n",
              "    <tr>\n",
              "      <th>4.0</th>\n",
              "      <th>2.0</th>\n",
              "      <td>47.393443</td>\n",
              "      <td>62.540984</td>\n",
              "      <td>30.983607</td>\n",
              "      <td>4.375206e+05</td>\n",
              "      <td>128973.434426</td>\n",
              "      <td>28338.959016</td>\n",
              "      <td>18699.688525</td>\n",
              "      <td>19848.811475</td>\n",
              "      <td>13467.942623</td>\n",
              "      <td>9842.975410</td>\n",
              "      <td>8480.221311</td>\n",
              "      <td>0.0</td>\n",
              "      <td>1.0</td>\n",
              "      <td>1</td>\n",
              "    </tr>\n",
              "    <tr>\n",
              "      <th>6.0</th>\n",
              "      <th>9.0</th>\n",
              "      <td>0.000000</td>\n",
              "      <td>0.000000</td>\n",
              "      <td>300.868613</td>\n",
              "      <td>8.227087e+05</td>\n",
              "      <td>208945.313869</td>\n",
              "      <td>67313.576642</td>\n",
              "      <td>77372.233577</td>\n",
              "      <td>51915.080292</td>\n",
              "      <td>72598.350365</td>\n",
              "      <td>61240.481752</td>\n",
              "      <td>49866.518248</td>\n",
              "      <td>1.0</td>\n",
              "      <td>0.0</td>\n",
              "      <td>5</td>\n",
              "    </tr>\n",
              "    <tr>\n",
              "      <th>1.0</th>\n",
              "      <th>5.0</th>\n",
              "      <td>63.650407</td>\n",
              "      <td>58.186992</td>\n",
              "      <td>35.333333</td>\n",
              "      <td>3.246595e+05</td>\n",
              "      <td>92079.601626</td>\n",
              "      <td>24880.626016</td>\n",
              "      <td>22122.788618</td>\n",
              "      <td>18937.000000</td>\n",
              "      <td>14467.195122</td>\n",
              "      <td>8555.357724</td>\n",
              "      <td>7150.186992</td>\n",
              "      <td>1.0</td>\n",
              "      <td>0.0</td>\n",
              "      <td>6</td>\n",
              "    </tr>\n",
              "    <tr>\n",
              "      <th>4.0</th>\n",
              "      <th>0.0</th>\n",
              "      <td>54.357143</td>\n",
              "      <td>51.650000</td>\n",
              "      <td>60.157143</td>\n",
              "      <td>2.316397e+05</td>\n",
              "      <td>78786.850000</td>\n",
              "      <td>17327.607143</td>\n",
              "      <td>15246.521429</td>\n",
              "      <td>20254.350000</td>\n",
              "      <td>13804.221429</td>\n",
              "      <td>12165.685714</td>\n",
              "      <td>9169.021429</td>\n",
              "      <td>0.0</td>\n",
              "      <td>0.0</td>\n",
              "      <td>6</td>\n",
              "    </tr>\n",
              "    <tr>\n",
              "      <th>9.0</th>\n",
              "      <th>6.0</th>\n",
              "      <td>29.620690</td>\n",
              "      <td>53.293103</td>\n",
              "      <td>16.543103</td>\n",
              "      <td>7.805636e+05</td>\n",
              "      <td>193226.870690</td>\n",
              "      <td>74629.129310</td>\n",
              "      <td>44065.681034</td>\n",
              "      <td>23816.422414</td>\n",
              "      <td>25928.741379</td>\n",
              "      <td>17276.931034</td>\n",
              "      <td>3854.594828</td>\n",
              "      <td>1.0</td>\n",
              "      <td>0.0</td>\n",
              "      <td>5</td>\n",
              "    </tr>\n",
              "    <tr>\n",
              "      <th>0.0</th>\n",
              "      <th>9.0</th>\n",
              "      <td>49.934426</td>\n",
              "      <td>47.270492</td>\n",
              "      <td>37.286885</td>\n",
              "      <td>6.022494e+05</td>\n",
              "      <td>130773.500000</td>\n",
              "      <td>26457.377049</td>\n",
              "      <td>20616.622951</td>\n",
              "      <td>20124.450820</td>\n",
              "      <td>29241.040984</td>\n",
              "      <td>28180.090164</td>\n",
              "      <td>11692.385246</td>\n",
              "      <td>1.0</td>\n",
              "      <td>0.0</td>\n",
              "      <td>4</td>\n",
              "    </tr>\n",
              "    <tr>\n",
              "      <th>7.0</th>\n",
              "      <th>2.0</th>\n",
              "      <td>56.073770</td>\n",
              "      <td>48.778689</td>\n",
              "      <td>31.950820</td>\n",
              "      <td>2.397276e+05</td>\n",
              "      <td>66519.573770</td>\n",
              "      <td>15494.950820</td>\n",
              "      <td>14791.360656</td>\n",
              "      <td>17695.213115</td>\n",
              "      <td>24044.844262</td>\n",
              "      <td>16307.983607</td>\n",
              "      <td>11929.909836</td>\n",
              "      <td>0.0</td>\n",
              "      <td>0.0</td>\n",
              "      <td>6</td>\n",
              "    </tr>\n",
              "    <tr>\n",
              "      <th>1.0</th>\n",
              "      <th>1.0</th>\n",
              "      <td>40.098592</td>\n",
              "      <td>57.922535</td>\n",
              "      <td>25.802817</td>\n",
              "      <td>4.786495e+05</td>\n",
              "      <td>143226.676056</td>\n",
              "      <td>33745.852113</td>\n",
              "      <td>22900.570423</td>\n",
              "      <td>20389.788732</td>\n",
              "      <td>12891.563380</td>\n",
              "      <td>5174.669014</td>\n",
              "      <td>3662.007042</td>\n",
              "      <td>0.0</td>\n",
              "      <td>1.0</td>\n",
              "      <td>1</td>\n",
              "    </tr>\n",
              "    <tr>\n",
              "      <th>4.0</th>\n",
              "      <th>7.0</th>\n",
              "      <td>36.549180</td>\n",
              "      <td>49.295082</td>\n",
              "      <td>19.377049</td>\n",
              "      <td>4.462619e+05</td>\n",
              "      <td>124507.704918</td>\n",
              "      <td>27235.245902</td>\n",
              "      <td>23950.483607</td>\n",
              "      <td>20979.319672</td>\n",
              "      <td>17095.565574</td>\n",
              "      <td>15296.934426</td>\n",
              "      <td>10675.795082</td>\n",
              "      <td>1.0</td>\n",
              "      <td>1.0</td>\n",
              "      <td>1</td>\n",
              "    </tr>\n",
              "    <tr>\n",
              "      <th>8.0</th>\n",
              "      <th>5.0</th>\n",
              "      <td>33.308943</td>\n",
              "      <td>46.065041</td>\n",
              "      <td>28.650407</td>\n",
              "      <td>1.067592e+06</td>\n",
              "      <td>270415.024390</td>\n",
              "      <td>83950.829268</td>\n",
              "      <td>60555.910569</td>\n",
              "      <td>36328.211382</td>\n",
              "      <td>31721.609756</td>\n",
              "      <td>17284.463415</td>\n",
              "      <td>9374.422764</td>\n",
              "      <td>1.0</td>\n",
              "      <td>1.0</td>\n",
              "      <td>0</td>\n",
              "    </tr>\n",
              "    <tr>\n",
              "      <th>2.0</th>\n",
              "      <th>8.0</th>\n",
              "      <td>52.854962</td>\n",
              "      <td>58.541985</td>\n",
              "      <td>37.297710</td>\n",
              "      <td>3.105315e+04</td>\n",
              "      <td>19107.053435</td>\n",
              "      <td>6374.274809</td>\n",
              "      <td>6283.679389</td>\n",
              "      <td>6249.488550</td>\n",
              "      <td>6468.755725</td>\n",
              "      <td>3251.648855</td>\n",
              "      <td>2629.030534</td>\n",
              "      <td>1.0</td>\n",
              "      <td>1.0</td>\n",
              "      <td>2</td>\n",
              "    </tr>\n",
              "    <tr>\n",
              "      <th>9.0</th>\n",
              "      <th>3.0</th>\n",
              "      <td>42.655738</td>\n",
              "      <td>62.229508</td>\n",
              "      <td>32.786885</td>\n",
              "      <td>9.060951e+05</td>\n",
              "      <td>177976.139344</td>\n",
              "      <td>51609.540984</td>\n",
              "      <td>60842.155738</td>\n",
              "      <td>16642.508197</td>\n",
              "      <td>57442.540984</td>\n",
              "      <td>26716.606557</td>\n",
              "      <td>3339.778689</td>\n",
              "      <td>0.0</td>\n",
              "      <td>1.0</td>\n",
              "      <td>5</td>\n",
              "    </tr>\n",
              "    <tr>\n",
              "      <th>0.0</th>\n",
              "      <th>5.0</th>\n",
              "      <td>49.813008</td>\n",
              "      <td>41.048780</td>\n",
              "      <td>38.804878</td>\n",
              "      <td>9.352090e+05</td>\n",
              "      <td>282487.512195</td>\n",
              "      <td>70498.089431</td>\n",
              "      <td>40760.398374</td>\n",
              "      <td>28621.528455</td>\n",
              "      <td>41453.463415</td>\n",
              "      <td>54069.455285</td>\n",
              "      <td>22656.227642</td>\n",
              "      <td>1.0</td>\n",
              "      <td>1.0</td>\n",
              "      <td>0</td>\n",
              "    </tr>\n",
              "    <tr>\n",
              "      <th rowspan=\"2\" valign=\"top\">6.0</th>\n",
              "      <th>6.0</th>\n",
              "      <td>0.000000</td>\n",
              "      <td>0.000000</td>\n",
              "      <td>418.474138</td>\n",
              "      <td>7.939511e+05</td>\n",
              "      <td>247062.775862</td>\n",
              "      <td>42978.517241</td>\n",
              "      <td>75027.982759</td>\n",
              "      <td>61951.905172</td>\n",
              "      <td>159168.862069</td>\n",
              "      <td>146848.155172</td>\n",
              "      <td>66681.189655</td>\n",
              "      <td>1.0</td>\n",
              "      <td>1.0</td>\n",
              "      <td>5</td>\n",
              "    </tr>\n",
              "    <tr>\n",
              "      <th>5.0</th>\n",
              "      <td>0.000000</td>\n",
              "      <td>0.000000</td>\n",
              "      <td>395.211382</td>\n",
              "      <td>6.756300e+05</td>\n",
              "      <td>171916.975610</td>\n",
              "      <td>44623.520325</td>\n",
              "      <td>67194.674797</td>\n",
              "      <td>49157.894309</td>\n",
              "      <td>104084.016260</td>\n",
              "      <td>109254.373984</td>\n",
              "      <td>52460.349593</td>\n",
              "      <td>1.0</td>\n",
              "      <td>0.0</td>\n",
              "      <td>4</td>\n",
              "    </tr>\n",
              "    <tr>\n",
              "      <th>3.0</th>\n",
              "      <th>5.0</th>\n",
              "      <td>47.463415</td>\n",
              "      <td>52.300813</td>\n",
              "      <td>30.390244</td>\n",
              "      <td>7.262913e+05</td>\n",
              "      <td>191672.373984</td>\n",
              "      <td>35006.780488</td>\n",
              "      <td>22388.626016</td>\n",
              "      <td>21413.471545</td>\n",
              "      <td>14352.333333</td>\n",
              "      <td>8082.178862</td>\n",
              "      <td>5136.674797</td>\n",
              "      <td>1.0</td>\n",
              "      <td>0.0</td>\n",
              "      <td>4</td>\n",
              "    </tr>\n",
              "    <tr>\n",
              "      <th>1.0</th>\n",
              "      <th>6.0</th>\n",
              "      <td>46.427419</td>\n",
              "      <td>63.758065</td>\n",
              "      <td>31.645161</td>\n",
              "      <td>3.229612e+05</td>\n",
              "      <td>93126.895161</td>\n",
              "      <td>24797.395161</td>\n",
              "      <td>16542.129032</td>\n",
              "      <td>14936.120968</td>\n",
              "      <td>10119.395161</td>\n",
              "      <td>4401.411290</td>\n",
              "      <td>2985.185484</td>\n",
              "      <td>1.0</td>\n",
              "      <td>0.0</td>\n",
              "      <td>6</td>\n",
              "    </tr>\n",
              "    <tr>\n",
              "      <th>4.0</th>\n",
              "      <th>9.0</th>\n",
              "      <td>43.007634</td>\n",
              "      <td>55.167939</td>\n",
              "      <td>47.030534</td>\n",
              "      <td>2.633647e+05</td>\n",
              "      <td>83741.816794</td>\n",
              "      <td>26475.381679</td>\n",
              "      <td>13988.259542</td>\n",
              "      <td>10601.954198</td>\n",
              "      <td>10009.656489</td>\n",
              "      <td>6131.687023</td>\n",
              "      <td>5261.931298</td>\n",
              "      <td>1.0</td>\n",
              "      <td>0.0</td>\n",
              "      <td>6</td>\n",
              "    </tr>\n",
              "    <tr>\n",
              "      <th>3.0</th>\n",
              "      <th>4.0</th>\n",
              "      <td>34.368056</td>\n",
              "      <td>52.590278</td>\n",
              "      <td>35.194444</td>\n",
              "      <td>9.563802e+05</td>\n",
              "      <td>324912.583333</td>\n",
              "      <td>73579.263889</td>\n",
              "      <td>44603.229167</td>\n",
              "      <td>33291.118056</td>\n",
              "      <td>24861.694444</td>\n",
              "      <td>13403.972222</td>\n",
              "      <td>7603.034722</td>\n",
              "      <td>0.0</td>\n",
              "      <td>1.0</td>\n",
              "      <td>0</td>\n",
              "    </tr>\n",
              "    <tr>\n",
              "      <th>0.0</th>\n",
              "      <th>7.0</th>\n",
              "      <td>48.000000</td>\n",
              "      <td>50.241071</td>\n",
              "      <td>28.267857</td>\n",
              "      <td>4.779900e+05</td>\n",
              "      <td>114145.276786</td>\n",
              "      <td>25727.714286</td>\n",
              "      <td>16241.580357</td>\n",
              "      <td>15278.625000</td>\n",
              "      <td>37795.616071</td>\n",
              "      <td>36331.428571</td>\n",
              "      <td>13718.250000</td>\n",
              "      <td>1.0</td>\n",
              "      <td>0.0</td>\n",
              "      <td>1</td>\n",
              "    </tr>\n",
              "    <tr>\n",
              "      <th>9.0</th>\n",
              "      <th>5.0</th>\n",
              "      <td>49.813008</td>\n",
              "      <td>41.048780</td>\n",
              "      <td>38.804878</td>\n",
              "      <td>9.352090e+05</td>\n",
              "      <td>282487.512195</td>\n",
              "      <td>70498.089431</td>\n",
              "      <td>40760.398374</td>\n",
              "      <td>28621.528455</td>\n",
              "      <td>41453.463415</td>\n",
              "      <td>54069.455285</td>\n",
              "      <td>22656.227642</td>\n",
              "      <td>1.0</td>\n",
              "      <td>1.0</td>\n",
              "      <td>0</td>\n",
              "    </tr>\n",
              "    <tr>\n",
              "      <th>2.0</th>\n",
              "      <th>7.0</th>\n",
              "      <td>43.185841</td>\n",
              "      <td>61.637168</td>\n",
              "      <td>34.566372</td>\n",
              "      <td>1.034203e+05</td>\n",
              "      <td>23207.690265</td>\n",
              "      <td>9708.150442</td>\n",
              "      <td>9016.017699</td>\n",
              "      <td>10104.380531</td>\n",
              "      <td>10381.902655</td>\n",
              "      <td>6219.088496</td>\n",
              "      <td>5255.566372</td>\n",
              "      <td>1.0</td>\n",
              "      <td>1.0</td>\n",
              "      <td>2</td>\n",
              "    </tr>\n",
              "    <tr>\n",
              "      <th>1.0</th>\n",
              "      <th>9.0</th>\n",
              "      <td>48.350365</td>\n",
              "      <td>62.328467</td>\n",
              "      <td>26.364964</td>\n",
              "      <td>3.200013e+05</td>\n",
              "      <td>87977.080292</td>\n",
              "      <td>25621.839416</td>\n",
              "      <td>21975.525547</td>\n",
              "      <td>22294.875912</td>\n",
              "      <td>10122.357664</td>\n",
              "      <td>5109.262774</td>\n",
              "      <td>3392.751825</td>\n",
              "      <td>1.0</td>\n",
              "      <td>0.0</td>\n",
              "      <td>6</td>\n",
              "    </tr>\n",
              "    <tr>\n",
              "      <th>8.0</th>\n",
              "      <th>1.0</th>\n",
              "      <td>50.049296</td>\n",
              "      <td>64.415493</td>\n",
              "      <td>49.725352</td>\n",
              "      <td>6.069475e+05</td>\n",
              "      <td>160941.978873</td>\n",
              "      <td>36889.154930</td>\n",
              "      <td>26482.978873</td>\n",
              "      <td>18689.169014</td>\n",
              "      <td>18101.112676</td>\n",
              "      <td>11485.936620</td>\n",
              "      <td>8224.577465</td>\n",
              "      <td>0.0</td>\n",
              "      <td>0.0</td>\n",
              "      <td>4</td>\n",
              "    </tr>\n",
              "    <tr>\n",
              "      <th>2.0</th>\n",
              "      <th>5.0</th>\n",
              "      <td>77.024390</td>\n",
              "      <td>64.886179</td>\n",
              "      <td>43.991870</td>\n",
              "      <td>9.694011e+04</td>\n",
              "      <td>38518.951220</td>\n",
              "      <td>13135.284553</td>\n",
              "      <td>11523.105691</td>\n",
              "      <td>15234.991870</td>\n",
              "      <td>12903.845528</td>\n",
              "      <td>8437.260163</td>\n",
              "      <td>6483.878049</td>\n",
              "      <td>1.0</td>\n",
              "      <td>1.0</td>\n",
              "      <td>2</td>\n",
              "    </tr>\n",
              "    <tr>\n",
              "      <th>6.0</th>\n",
              "      <th>2.0</th>\n",
              "      <td>0.000000</td>\n",
              "      <td>0.000000</td>\n",
              "      <td>263.959016</td>\n",
              "      <td>5.845697e+05</td>\n",
              "      <td>225168.729508</td>\n",
              "      <td>38174.024590</td>\n",
              "      <td>39712.155738</td>\n",
              "      <td>47837.540984</td>\n",
              "      <td>276137.368852</td>\n",
              "      <td>241545.213115</td>\n",
              "      <td>82950.344262</td>\n",
              "      <td>0.0</td>\n",
              "      <td>0.0</td>\n",
              "      <td>3</td>\n",
              "    </tr>\n",
              "    <tr>\n",
              "      <th>1.0</th>\n",
              "      <th>3.0</th>\n",
              "      <td>15.905172</td>\n",
              "      <td>35.560345</td>\n",
              "      <td>35.810345</td>\n",
              "      <td>8.443296e+05</td>\n",
              "      <td>281278.853448</td>\n",
              "      <td>67715.224138</td>\n",
              "      <td>39676.775862</td>\n",
              "      <td>28128.543103</td>\n",
              "      <td>26739.603448</td>\n",
              "      <td>13088.482759</td>\n",
              "      <td>3338.301724</td>\n",
              "      <td>0.0</td>\n",
              "      <td>1.0</td>\n",
              "      <td>0</td>\n",
              "    </tr>\n",
              "    <tr>\n",
              "      <th>...</th>\n",
              "      <th>...</th>\n",
              "      <td>...</td>\n",
              "      <td>...</td>\n",
              "      <td>...</td>\n",
              "      <td>...</td>\n",
              "      <td>...</td>\n",
              "      <td>...</td>\n",
              "      <td>...</td>\n",
              "      <td>...</td>\n",
              "      <td>...</td>\n",
              "      <td>...</td>\n",
              "      <td>...</td>\n",
              "      <td>...</td>\n",
              "      <td>...</td>\n",
              "      <td>...</td>\n",
              "    </tr>\n",
              "    <tr>\n",
              "      <th>7.0</th>\n",
              "      <th>9.0</th>\n",
              "      <td>53.652542</td>\n",
              "      <td>54.194915</td>\n",
              "      <td>36.110169</td>\n",
              "      <td>2.718294e+05</td>\n",
              "      <td>76548.728814</td>\n",
              "      <td>19669.211864</td>\n",
              "      <td>15730.576271</td>\n",
              "      <td>20219.101695</td>\n",
              "      <td>31474.432203</td>\n",
              "      <td>23813.491525</td>\n",
              "      <td>16602.932203</td>\n",
              "      <td>1.0</td>\n",
              "      <td>0.0</td>\n",
              "      <td>6</td>\n",
              "    </tr>\n",
              "    <tr>\n",
              "      <th>4.0</th>\n",
              "      <th>1.0</th>\n",
              "      <td>42.563380</td>\n",
              "      <td>43.105634</td>\n",
              "      <td>44.598592</td>\n",
              "      <td>4.226388e+05</td>\n",
              "      <td>134631.943662</td>\n",
              "      <td>31888.774648</td>\n",
              "      <td>24468.542254</td>\n",
              "      <td>19608.922535</td>\n",
              "      <td>21044.880282</td>\n",
              "      <td>17380.767606</td>\n",
              "      <td>14074.866197</td>\n",
              "      <td>0.0</td>\n",
              "      <td>1.0</td>\n",
              "      <td>1</td>\n",
              "    </tr>\n",
              "    <tr>\n",
              "      <th>5.0</th>\n",
              "      <th>8.0</th>\n",
              "      <td>43.024194</td>\n",
              "      <td>50.830645</td>\n",
              "      <td>27.233871</td>\n",
              "      <td>8.729752e+05</td>\n",
              "      <td>263280.080645</td>\n",
              "      <td>56770.508065</td>\n",
              "      <td>34276.669355</td>\n",
              "      <td>32484.064516</td>\n",
              "      <td>21341.217742</td>\n",
              "      <td>11047.693548</td>\n",
              "      <td>4621.088710</td>\n",
              "      <td>1.0</td>\n",
              "      <td>1.0</td>\n",
              "      <td>0</td>\n",
              "    </tr>\n",
              "    <tr>\n",
              "      <th>4.0</th>\n",
              "      <th>8.0</th>\n",
              "      <td>36.633588</td>\n",
              "      <td>50.709924</td>\n",
              "      <td>39.641221</td>\n",
              "      <td>3.628135e+05</td>\n",
              "      <td>110029.900763</td>\n",
              "      <td>24901.870229</td>\n",
              "      <td>21531.213740</td>\n",
              "      <td>17510.221374</td>\n",
              "      <td>16318.152672</td>\n",
              "      <td>10363.687023</td>\n",
              "      <td>7859.381679</td>\n",
              "      <td>1.0</td>\n",
              "      <td>1.0</td>\n",
              "      <td>6</td>\n",
              "    </tr>\n",
              "    <tr>\n",
              "      <th>9.0</th>\n",
              "      <th>8.0</th>\n",
              "      <td>55.548387</td>\n",
              "      <td>52.879032</td>\n",
              "      <td>29.564516</td>\n",
              "      <td>9.144155e+05</td>\n",
              "      <td>198926.048387</td>\n",
              "      <td>42279.814516</td>\n",
              "      <td>25929.185484</td>\n",
              "      <td>20326.217742</td>\n",
              "      <td>36773.443548</td>\n",
              "      <td>45424.588710</td>\n",
              "      <td>17554.927419</td>\n",
              "      <td>1.0</td>\n",
              "      <td>1.0</td>\n",
              "      <td>5</td>\n",
              "    </tr>\n",
              "    <tr>\n",
              "      <th>5.0</th>\n",
              "      <th>7.0</th>\n",
              "      <td>49.867257</td>\n",
              "      <td>52.150442</td>\n",
              "      <td>30.469027</td>\n",
              "      <td>6.374384e+05</td>\n",
              "      <td>152505.053097</td>\n",
              "      <td>37328.221239</td>\n",
              "      <td>31966.070796</td>\n",
              "      <td>14104.380531</td>\n",
              "      <td>20554.911504</td>\n",
              "      <td>12368.132743</td>\n",
              "      <td>2518.831858</td>\n",
              "      <td>1.0</td>\n",
              "      <td>0.0</td>\n",
              "      <td>4</td>\n",
              "    </tr>\n",
              "    <tr>\n",
              "      <th>7.0</th>\n",
              "      <th>5.0</th>\n",
              "      <td>28.585366</td>\n",
              "      <td>54.203252</td>\n",
              "      <td>35.235772</td>\n",
              "      <td>8.780163e+05</td>\n",
              "      <td>197816.073171</td>\n",
              "      <td>50010.162602</td>\n",
              "      <td>30918.186992</td>\n",
              "      <td>22344.227642</td>\n",
              "      <td>26939.658537</td>\n",
              "      <td>24830.504065</td>\n",
              "      <td>16559.390244</td>\n",
              "      <td>1.0</td>\n",
              "      <td>1.0</td>\n",
              "      <td>5</td>\n",
              "    </tr>\n",
              "    <tr>\n",
              "      <th>3.0</th>\n",
              "      <th>2.0</th>\n",
              "      <td>62.206897</td>\n",
              "      <td>51.301724</td>\n",
              "      <td>36.379310</td>\n",
              "      <td>6.555848e+05</td>\n",
              "      <td>132953.120690</td>\n",
              "      <td>27535.353448</td>\n",
              "      <td>19943.301724</td>\n",
              "      <td>15396.965517</td>\n",
              "      <td>14293.318966</td>\n",
              "      <td>7592.112069</td>\n",
              "      <td>4698.336207</td>\n",
              "      <td>0.0</td>\n",
              "      <td>0.0</td>\n",
              "      <td>4</td>\n",
              "    </tr>\n",
              "    <tr>\n",
              "      <th>9.0</th>\n",
              "      <th>4.0</th>\n",
              "      <td>38.913793</td>\n",
              "      <td>50.422414</td>\n",
              "      <td>46.750000</td>\n",
              "      <td>8.619048e+05</td>\n",
              "      <td>159156.586207</td>\n",
              "      <td>57424.250000</td>\n",
              "      <td>46757.525862</td>\n",
              "      <td>25228.646552</td>\n",
              "      <td>52089.982759</td>\n",
              "      <td>26346.448276</td>\n",
              "      <td>3777.818966</td>\n",
              "      <td>0.0</td>\n",
              "      <td>1.0</td>\n",
              "      <td>5</td>\n",
              "    </tr>\n",
              "    <tr>\n",
              "      <th>5.0</th>\n",
              "      <th>9.0</th>\n",
              "      <td>47.073770</td>\n",
              "      <td>56.770492</td>\n",
              "      <td>40.770492</td>\n",
              "      <td>5.004124e+05</td>\n",
              "      <td>164886.500000</td>\n",
              "      <td>39462.426230</td>\n",
              "      <td>29154.983607</td>\n",
              "      <td>15730.598361</td>\n",
              "      <td>21443.196721</td>\n",
              "      <td>12900.508197</td>\n",
              "      <td>2240.991803</td>\n",
              "      <td>1.0</td>\n",
              "      <td>0.0</td>\n",
              "      <td>1</td>\n",
              "    </tr>\n",
              "    <tr>\n",
              "      <th>6.0</th>\n",
              "      <th>3.0</th>\n",
              "      <td>0.000000</td>\n",
              "      <td>0.000000</td>\n",
              "      <td>355.336207</td>\n",
              "      <td>8.554903e+05</td>\n",
              "      <td>342884.922414</td>\n",
              "      <td>125175.672414</td>\n",
              "      <td>131039.500000</td>\n",
              "      <td>96779.896552</td>\n",
              "      <td>130072.508621</td>\n",
              "      <td>92971.060345</td>\n",
              "      <td>88753.534483</td>\n",
              "      <td>0.0</td>\n",
              "      <td>1.0</td>\n",
              "      <td>0</td>\n",
              "    </tr>\n",
              "    <tr>\n",
              "      <th>8.0</th>\n",
              "      <th>4.0</th>\n",
              "      <td>34.368056</td>\n",
              "      <td>52.590278</td>\n",
              "      <td>35.194444</td>\n",
              "      <td>9.563802e+05</td>\n",
              "      <td>324912.583333</td>\n",
              "      <td>73579.263889</td>\n",
              "      <td>44603.229167</td>\n",
              "      <td>33291.118056</td>\n",
              "      <td>24861.694444</td>\n",
              "      <td>13403.972222</td>\n",
              "      <td>7603.034722</td>\n",
              "      <td>0.0</td>\n",
              "      <td>1.0</td>\n",
              "      <td>0</td>\n",
              "    </tr>\n",
              "    <tr>\n",
              "      <th>3.0</th>\n",
              "      <th>7.0</th>\n",
              "      <td>46.572581</td>\n",
              "      <td>45.000000</td>\n",
              "      <td>20.491935</td>\n",
              "      <td>8.431812e+05</td>\n",
              "      <td>235449.814516</td>\n",
              "      <td>52773.612903</td>\n",
              "      <td>25378.741935</td>\n",
              "      <td>23204.427419</td>\n",
              "      <td>16428.080645</td>\n",
              "      <td>9439.862903</td>\n",
              "      <td>5878.290323</td>\n",
              "      <td>1.0</td>\n",
              "      <td>1.0</td>\n",
              "      <td>5</td>\n",
              "    </tr>\n",
              "    <tr>\n",
              "      <th>2.0</th>\n",
              "      <th>9.0</th>\n",
              "      <td>42.175182</td>\n",
              "      <td>65.051095</td>\n",
              "      <td>33.452555</td>\n",
              "      <td>3.009636e+04</td>\n",
              "      <td>17538.700730</td>\n",
              "      <td>7317.204380</td>\n",
              "      <td>7279.430657</td>\n",
              "      <td>6116.343066</td>\n",
              "      <td>5714.262774</td>\n",
              "      <td>2496.897810</td>\n",
              "      <td>2083.167883</td>\n",
              "      <td>1.0</td>\n",
              "      <td>0.0</td>\n",
              "      <td>2</td>\n",
              "    </tr>\n",
              "    <tr>\n",
              "      <th>0.0</th>\n",
              "      <th>1.0</th>\n",
              "      <td>43.621429</td>\n",
              "      <td>48.621429</td>\n",
              "      <td>28.800000</td>\n",
              "      <td>7.397373e+05</td>\n",
              "      <td>161064.228571</td>\n",
              "      <td>34918.028571</td>\n",
              "      <td>25078.935714</td>\n",
              "      <td>22157.307143</td>\n",
              "      <td>37410.728571</td>\n",
              "      <td>36758.700000</td>\n",
              "      <td>14519.407143</td>\n",
              "      <td>0.0</td>\n",
              "      <td>1.0</td>\n",
              "      <td>4</td>\n",
              "    </tr>\n",
              "    <tr>\n",
              "      <th>5.0</th>\n",
              "      <th>2.0</th>\n",
              "      <td>48.239437</td>\n",
              "      <td>59.852113</td>\n",
              "      <td>31.936620</td>\n",
              "      <td>8.467073e+05</td>\n",
              "      <td>276656.169014</td>\n",
              "      <td>68991.140845</td>\n",
              "      <td>48244.154930</td>\n",
              "      <td>33321.746479</td>\n",
              "      <td>28736.330986</td>\n",
              "      <td>15604.845070</td>\n",
              "      <td>5812.626761</td>\n",
              "      <td>0.0</td>\n",
              "      <td>1.0</td>\n",
              "      <td>0</td>\n",
              "    </tr>\n",
              "    <tr>\n",
              "      <th>2.0</th>\n",
              "      <th>1.0</th>\n",
              "      <td>56.781690</td>\n",
              "      <td>60.077465</td>\n",
              "      <td>31.084507</td>\n",
              "      <td>3.794893e+04</td>\n",
              "      <td>17893.126761</td>\n",
              "      <td>7904.915493</td>\n",
              "      <td>9252.746479</td>\n",
              "      <td>6136.183099</td>\n",
              "      <td>7154.845070</td>\n",
              "      <td>3491.408451</td>\n",
              "      <td>2495.612676</td>\n",
              "      <td>0.0</td>\n",
              "      <td>1.0</td>\n",
              "      <td>2</td>\n",
              "    </tr>\n",
              "    <tr>\n",
              "      <th>0.0</th>\n",
              "      <th>2.0</th>\n",
              "      <td>43.978873</td>\n",
              "      <td>47.316901</td>\n",
              "      <td>13.154930</td>\n",
              "      <td>6.940781e+05</td>\n",
              "      <td>149816.873239</td>\n",
              "      <td>30493.873239</td>\n",
              "      <td>21667.591549</td>\n",
              "      <td>21888.338028</td>\n",
              "      <td>36446.436620</td>\n",
              "      <td>33908.873239</td>\n",
              "      <td>14545.845070</td>\n",
              "      <td>0.0</td>\n",
              "      <td>1.0</td>\n",
              "      <td>4</td>\n",
              "    </tr>\n",
              "    <tr>\n",
              "      <th>2.0</th>\n",
              "      <th>3.0</th>\n",
              "      <td>42.500000</td>\n",
              "      <td>62.948276</td>\n",
              "      <td>36.008621</td>\n",
              "      <td>1.721556e+04</td>\n",
              "      <td>15320.431034</td>\n",
              "      <td>6635.698276</td>\n",
              "      <td>6400.965517</td>\n",
              "      <td>5858.879310</td>\n",
              "      <td>5187.362069</td>\n",
              "      <td>2585.198276</td>\n",
              "      <td>1771.465517</td>\n",
              "      <td>0.0</td>\n",
              "      <td>0.0</td>\n",
              "      <td>2</td>\n",
              "    </tr>\n",
              "    <tr>\n",
              "      <th>8.0</th>\n",
              "      <th>7.0</th>\n",
              "      <td>50.934426</td>\n",
              "      <td>48.352459</td>\n",
              "      <td>44.155738</td>\n",
              "      <td>7.870033e+05</td>\n",
              "      <td>203572.573770</td>\n",
              "      <td>34403.098361</td>\n",
              "      <td>26265.598361</td>\n",
              "      <td>20524.516393</td>\n",
              "      <td>19070.286885</td>\n",
              "      <td>14847.475410</td>\n",
              "      <td>8961.475410</td>\n",
              "      <td>1.0</td>\n",
              "      <td>0.0</td>\n",
              "      <td>5</td>\n",
              "    </tr>\n",
              "    <tr>\n",
              "      <th>9.0</th>\n",
              "      <th>1.0</th>\n",
              "      <td>58.057143</td>\n",
              "      <td>41.114286</td>\n",
              "      <td>33.678571</td>\n",
              "      <td>8.133599e+05</td>\n",
              "      <td>99995.650000</td>\n",
              "      <td>38474.071429</td>\n",
              "      <td>39763.371429</td>\n",
              "      <td>15116.057143</td>\n",
              "      <td>73006.292857</td>\n",
              "      <td>14934.307143</td>\n",
              "      <td>2898.185714</td>\n",
              "      <td>0.0</td>\n",
              "      <td>0.0</td>\n",
              "      <td>5</td>\n",
              "    </tr>\n",
              "    <tr>\n",
              "      <th>7.0</th>\n",
              "      <th>4.0</th>\n",
              "      <td>50.423611</td>\n",
              "      <td>47.361111</td>\n",
              "      <td>28.486111</td>\n",
              "      <td>4.618546e+05</td>\n",
              "      <td>112684.250000</td>\n",
              "      <td>23718.222222</td>\n",
              "      <td>18676.520833</td>\n",
              "      <td>17574.326389</td>\n",
              "      <td>29320.687500</td>\n",
              "      <td>21118.541667</td>\n",
              "      <td>16284.222222</td>\n",
              "      <td>0.0</td>\n",
              "      <td>1.0</td>\n",
              "      <td>1</td>\n",
              "    </tr>\n",
              "    <tr>\n",
              "      <th rowspan=\"2\" valign=\"top\">8.0</th>\n",
              "      <th>6.0</th>\n",
              "      <td>47.758065</td>\n",
              "      <td>46.241935</td>\n",
              "      <td>36.443548</td>\n",
              "      <td>8.405013e+05</td>\n",
              "      <td>215770.806452</td>\n",
              "      <td>41204.403226</td>\n",
              "      <td>28295.032258</td>\n",
              "      <td>19717.798387</td>\n",
              "      <td>19203.129032</td>\n",
              "      <td>12393.241935</td>\n",
              "      <td>9090.250000</td>\n",
              "      <td>1.0</td>\n",
              "      <td>0.0</td>\n",
              "      <td>5</td>\n",
              "    </tr>\n",
              "    <tr>\n",
              "      <th>2.0</th>\n",
              "      <td>52.918033</td>\n",
              "      <td>49.926230</td>\n",
              "      <td>40.754098</td>\n",
              "      <td>6.187019e+05</td>\n",
              "      <td>169918.295082</td>\n",
              "      <td>37338.942623</td>\n",
              "      <td>24467.491803</td>\n",
              "      <td>15811.918033</td>\n",
              "      <td>15556.180328</td>\n",
              "      <td>11530.188525</td>\n",
              "      <td>6618.385246</td>\n",
              "      <td>0.0</td>\n",
              "      <td>0.0</td>\n",
              "      <td>4</td>\n",
              "    </tr>\n",
              "    <tr>\n",
              "      <th>2.0</th>\n",
              "      <th>0.0</th>\n",
              "      <td>61.007143</td>\n",
              "      <td>53.342857</td>\n",
              "      <td>31.050000</td>\n",
              "      <td>1.424224e+04</td>\n",
              "      <td>14054.807143</td>\n",
              "      <td>5972.600000</td>\n",
              "      <td>6495.471429</td>\n",
              "      <td>5498.307143</td>\n",
              "      <td>6129.835714</td>\n",
              "      <td>3283.642857</td>\n",
              "      <td>2811.507143</td>\n",
              "      <td>0.0</td>\n",
              "      <td>0.0</td>\n",
              "      <td>2</td>\n",
              "    </tr>\n",
              "    <tr>\n",
              "      <th>6.0</th>\n",
              "      <th>0.0</th>\n",
              "      <td>0.000000</td>\n",
              "      <td>0.000000</td>\n",
              "      <td>367.642857</td>\n",
              "      <td>8.075458e+05</td>\n",
              "      <td>401609.450000</td>\n",
              "      <td>112919.500000</td>\n",
              "      <td>141040.735714</td>\n",
              "      <td>81007.964286</td>\n",
              "      <td>112267.421429</td>\n",
              "      <td>73135.285714</td>\n",
              "      <td>79095.264286</td>\n",
              "      <td>0.0</td>\n",
              "      <td>1.0</td>\n",
              "      <td>0</td>\n",
              "    </tr>\n",
              "    <tr>\n",
              "      <th>7.0</th>\n",
              "      <th>1.0</th>\n",
              "      <td>43.218310</td>\n",
              "      <td>51.957746</td>\n",
              "      <td>40.866197</td>\n",
              "      <td>8.260565e+05</td>\n",
              "      <td>171766.176056</td>\n",
              "      <td>38770.387324</td>\n",
              "      <td>24259.908451</td>\n",
              "      <td>17013.838028</td>\n",
              "      <td>25105.711268</td>\n",
              "      <td>22331.887324</td>\n",
              "      <td>16002.302817</td>\n",
              "      <td>0.0</td>\n",
              "      <td>1.0</td>\n",
              "      <td>5</td>\n",
              "    </tr>\n",
              "    <tr>\n",
              "      <th>1.0</th>\n",
              "      <th>4.0</th>\n",
              "      <td>46.868056</td>\n",
              "      <td>59.861111</td>\n",
              "      <td>31.652778</td>\n",
              "      <td>4.020744e+05</td>\n",
              "      <td>140224.916667</td>\n",
              "      <td>32657.000000</td>\n",
              "      <td>26385.076389</td>\n",
              "      <td>24590.437500</td>\n",
              "      <td>15990.791667</td>\n",
              "      <td>10063.416667</td>\n",
              "      <td>7354.125000</td>\n",
              "      <td>0.0</td>\n",
              "      <td>1.0</td>\n",
              "      <td>1</td>\n",
              "    </tr>\n",
              "    <tr>\n",
              "      <th>9.0</th>\n",
              "      <th>2.0</th>\n",
              "      <td>39.774648</td>\n",
              "      <td>56.605634</td>\n",
              "      <td>24.246479</td>\n",
              "      <td>8.475882e+05</td>\n",
              "      <td>161300.570423</td>\n",
              "      <td>50134.718310</td>\n",
              "      <td>44347.225352</td>\n",
              "      <td>17367.654930</td>\n",
              "      <td>33030.211268</td>\n",
              "      <td>21633.661972</td>\n",
              "      <td>3262.140845</td>\n",
              "      <td>0.0</td>\n",
              "      <td>0.0</td>\n",
              "      <td>5</td>\n",
              "    </tr>\n",
              "    <tr>\n",
              "      <th>5.0</th>\n",
              "      <th>1.0</th>\n",
              "      <td>51.750000</td>\n",
              "      <td>48.900000</td>\n",
              "      <td>33.642857</td>\n",
              "      <td>8.600894e+05</td>\n",
              "      <td>253079.792857</td>\n",
              "      <td>54032.192857</td>\n",
              "      <td>34291.421429</td>\n",
              "      <td>34197.292857</td>\n",
              "      <td>23592.342857</td>\n",
              "      <td>12221.335714</td>\n",
              "      <td>4892.935714</td>\n",
              "      <td>0.0</td>\n",
              "      <td>1.0</td>\n",
              "      <td>5</td>\n",
              "    </tr>\n",
              "  </tbody>\n",
              "</table>\n",
              "<p>80 rows × 14 columns</p>\n",
              "</div>"
            ],
            "text/plain": [
              "               Attention  Meditation         Raw  ...  exp  obs  cluster_gmm\n",
              "Subject Video                                     ...                       \n",
              "5.0     5.0    46.829268   55.674797   28.617886  ...  1.0  1.0            0\n",
              "8.0     8.0    36.938931   47.885496   27.580153  ...  1.0  1.0            0\n",
              "2.0     6.0    55.689655   55.732759   32.353448  ...  1.0  0.0            2\n",
              "4.0     2.0    47.393443   62.540984   30.983607  ...  0.0  1.0            1\n",
              "6.0     9.0     0.000000    0.000000  300.868613  ...  1.0  0.0            5\n",
              "1.0     5.0    63.650407   58.186992   35.333333  ...  1.0  0.0            6\n",
              "4.0     0.0    54.357143   51.650000   60.157143  ...  0.0  0.0            6\n",
              "9.0     6.0    29.620690   53.293103   16.543103  ...  1.0  0.0            5\n",
              "0.0     9.0    49.934426   47.270492   37.286885  ...  1.0  0.0            4\n",
              "7.0     2.0    56.073770   48.778689   31.950820  ...  0.0  0.0            6\n",
              "1.0     1.0    40.098592   57.922535   25.802817  ...  0.0  1.0            1\n",
              "4.0     7.0    36.549180   49.295082   19.377049  ...  1.0  1.0            1\n",
              "8.0     5.0    33.308943   46.065041   28.650407  ...  1.0  1.0            0\n",
              "2.0     8.0    52.854962   58.541985   37.297710  ...  1.0  1.0            2\n",
              "9.0     3.0    42.655738   62.229508   32.786885  ...  0.0  1.0            5\n",
              "0.0     5.0    49.813008   41.048780   38.804878  ...  1.0  1.0            0\n",
              "6.0     6.0     0.000000    0.000000  418.474138  ...  1.0  1.0            5\n",
              "        5.0     0.000000    0.000000  395.211382  ...  1.0  0.0            4\n",
              "3.0     5.0    47.463415   52.300813   30.390244  ...  1.0  0.0            4\n",
              "1.0     6.0    46.427419   63.758065   31.645161  ...  1.0  0.0            6\n",
              "4.0     9.0    43.007634   55.167939   47.030534  ...  1.0  0.0            6\n",
              "3.0     4.0    34.368056   52.590278   35.194444  ...  0.0  1.0            0\n",
              "0.0     7.0    48.000000   50.241071   28.267857  ...  1.0  0.0            1\n",
              "9.0     5.0    49.813008   41.048780   38.804878  ...  1.0  1.0            0\n",
              "2.0     7.0    43.185841   61.637168   34.566372  ...  1.0  1.0            2\n",
              "1.0     9.0    48.350365   62.328467   26.364964  ...  1.0  0.0            6\n",
              "8.0     1.0    50.049296   64.415493   49.725352  ...  0.0  0.0            4\n",
              "2.0     5.0    77.024390   64.886179   43.991870  ...  1.0  1.0            2\n",
              "6.0     2.0     0.000000    0.000000  263.959016  ...  0.0  0.0            3\n",
              "1.0     3.0    15.905172   35.560345   35.810345  ...  0.0  1.0            0\n",
              "...                  ...         ...         ...  ...  ...  ...          ...\n",
              "7.0     9.0    53.652542   54.194915   36.110169  ...  1.0  0.0            6\n",
              "4.0     1.0    42.563380   43.105634   44.598592  ...  0.0  1.0            1\n",
              "5.0     8.0    43.024194   50.830645   27.233871  ...  1.0  1.0            0\n",
              "4.0     8.0    36.633588   50.709924   39.641221  ...  1.0  1.0            6\n",
              "9.0     8.0    55.548387   52.879032   29.564516  ...  1.0  1.0            5\n",
              "5.0     7.0    49.867257   52.150442   30.469027  ...  1.0  0.0            4\n",
              "7.0     5.0    28.585366   54.203252   35.235772  ...  1.0  1.0            5\n",
              "3.0     2.0    62.206897   51.301724   36.379310  ...  0.0  0.0            4\n",
              "9.0     4.0    38.913793   50.422414   46.750000  ...  0.0  1.0            5\n",
              "5.0     9.0    47.073770   56.770492   40.770492  ...  1.0  0.0            1\n",
              "6.0     3.0     0.000000    0.000000  355.336207  ...  0.0  1.0            0\n",
              "8.0     4.0    34.368056   52.590278   35.194444  ...  0.0  1.0            0\n",
              "3.0     7.0    46.572581   45.000000   20.491935  ...  1.0  1.0            5\n",
              "2.0     9.0    42.175182   65.051095   33.452555  ...  1.0  0.0            2\n",
              "0.0     1.0    43.621429   48.621429   28.800000  ...  0.0  1.0            4\n",
              "5.0     2.0    48.239437   59.852113   31.936620  ...  0.0  1.0            0\n",
              "2.0     1.0    56.781690   60.077465   31.084507  ...  0.0  1.0            2\n",
              "0.0     2.0    43.978873   47.316901   13.154930  ...  0.0  1.0            4\n",
              "2.0     3.0    42.500000   62.948276   36.008621  ...  0.0  0.0            2\n",
              "8.0     7.0    50.934426   48.352459   44.155738  ...  1.0  0.0            5\n",
              "9.0     1.0    58.057143   41.114286   33.678571  ...  0.0  0.0            5\n",
              "7.0     4.0    50.423611   47.361111   28.486111  ...  0.0  1.0            1\n",
              "8.0     6.0    47.758065   46.241935   36.443548  ...  1.0  0.0            5\n",
              "        2.0    52.918033   49.926230   40.754098  ...  0.0  0.0            4\n",
              "2.0     0.0    61.007143   53.342857   31.050000  ...  0.0  0.0            2\n",
              "6.0     0.0     0.000000    0.000000  367.642857  ...  0.0  1.0            0\n",
              "7.0     1.0    43.218310   51.957746   40.866197  ...  0.0  1.0            5\n",
              "1.0     4.0    46.868056   59.861111   31.652778  ...  0.0  1.0            1\n",
              "9.0     2.0    39.774648   56.605634   24.246479  ...  0.0  0.0            5\n",
              "5.0     1.0    51.750000   48.900000   33.642857  ...  0.0  1.0            5\n",
              "\n",
              "[80 rows x 14 columns]"
            ]
          },
          "metadata": {
            "tags": []
          },
          "execution_count": 30
        }
      ]
    },
    {
      "cell_type": "code",
      "metadata": {
        "id": "iYK0qo3mT2-e",
        "colab_type": "code",
        "outputId": "72be9050-ff89-45cb-b63c-b8e8f3831126",
        "colab": {
          "base_uri": "https://localhost:8080/",
          "height": 90
        }
      },
      "source": [
        "gmm_ = GaussianMixture(n_components=2)\n",
        "gmm_.fit(X_train, y_train)"
      ],
      "execution_count": 0,
      "outputs": [
        {
          "output_type": "execute_result",
          "data": {
            "text/plain": [
              "GaussianMixture(covariance_type='full', init_params='kmeans', max_iter=100,\n",
              "                means_init=None, n_components=2, n_init=1, precisions_init=None,\n",
              "                random_state=None, reg_covar=1e-06, tol=0.001, verbose=0,\n",
              "                verbose_interval=10, warm_start=False, weights_init=None)"
            ]
          },
          "metadata": {
            "tags": []
          },
          "execution_count": 31
        }
      ]
    },
    {
      "cell_type": "code",
      "metadata": {
        "id": "CE9KEo64Up8K",
        "colab_type": "code",
        "outputId": "9be3bef2-afd6-4e0c-e644-751d88011304",
        "colab": {
          "base_uri": "https://localhost:8080/",
          "height": 54
        }
      },
      "source": [
        "gmm_pred = gmm_.predict(X_train)\n",
        "gmm_acc = accuracy_score(y_train, gmm_pred)\n",
        "print('Number of accuracy')\n",
        "gmm_acc"
      ],
      "execution_count": 0,
      "outputs": [
        {
          "output_type": "stream",
          "text": [
            "Number of accuracy\n"
          ],
          "name": "stdout"
        },
        {
          "output_type": "execute_result",
          "data": {
            "text/plain": [
              "0.425"
            ]
          },
          "metadata": {
            "tags": []
          },
          "execution_count": 32
        }
      ]
    },
    {
      "cell_type": "code",
      "metadata": {
        "id": "W30FZJsqUzBO",
        "colab_type": "code",
        "outputId": "d03eecf2-b205-4339-ac75-99d388475b69",
        "colab": {
          "base_uri": "https://localhost:8080/",
          "height": 54
        }
      },
      "source": [
        "gmm_test= gmm_.predict(X_test)\n",
        "acc_gmm = accuracy_score(y_test, gmm_test)\n",
        "print('Number of accuracy')\n",
        "acc_gmm"
      ],
      "execution_count": 0,
      "outputs": [
        {
          "output_type": "stream",
          "text": [
            "Number of accuracy\n"
          ],
          "name": "stdout"
        },
        {
          "output_type": "execute_result",
          "data": {
            "text/plain": [
              "0.3"
            ]
          },
          "metadata": {
            "tags": []
          },
          "execution_count": 33
        }
      ]
    },
    {
      "cell_type": "markdown",
      "metadata": {
        "id": "vE6YgCCjU-Gx",
        "colab_type": "text"
      },
      "source": [
        "# Dimension Reduction with Principal Components Analysis"
      ]
    },
    {
      "cell_type": "code",
      "metadata": {
        "id": "Mk5AzagtU9la",
        "colab_type": "code",
        "colab": {}
      },
      "source": [
        "X_trans = PCA(n_components=13).fit_transform(X)"
      ],
      "execution_count": 0,
      "outputs": []
    },
    {
      "cell_type": "code",
      "metadata": {
        "id": "RjrdFaczV2ao",
        "colab_type": "code",
        "colab": {}
      },
      "source": [
        "pc1_1 = X_trans[:, 0] / 1000\n",
        "pc2_1 = X_trans[:, 1] / 1000\n",
        "pc3_1 = X_trans[:, 2] / 1000\n",
        "\n",
        "m = [\n",
        "    \"x\", # Student no 1\n",
        "    \"o\", \n",
        "    \"v\", \n",
        "    \"s\", \n",
        "    \"p\", \n",
        "    \"+\", \n",
        "    \"_\", # Student no 7\n",
        "    \"<\", \n",
        "    \".\", \n",
        "    \">\" # Student no 10\n",
        "]\n",
        "\n",
        "markers1 = [marker for marker in m for j in range(10)]\n",
        "colors1 = ['r' if int(student_confused) == 1 else 'darkblue' for student_confused in y]"
      ],
      "execution_count": 0,
      "outputs": []
    },
    {
      "cell_type": "code",
      "metadata": {
        "id": "pXibEJFJXK_N",
        "colab_type": "code",
        "colab": {}
      },
      "source": [
        "def scorePlots(pc1, pc2, pc3, markers, colors):   \n",
        "    fig = plt.figure(figsize=[10, 5])\n",
        "    fig.suptitle('Scatter plots of PCA scores')\n",
        "\n",
        "    ax1 = fig.add_subplot(131)\n",
        "    ax1.patch.set_facecolor('white')\n",
        "    for _pc1, _pc2, _marker, _color in zip(pc1, pc2, markers, colors):\n",
        "        ax1.scatter(_pc1, _pc2, marker=_marker, color=_color, s=20)\n",
        "    plt.xlabel('PC1 / 1000')\n",
        "    plt.ylabel('PC2 / 1000')\n",
        "\n",
        "    ax2 = fig.add_subplot(132)\n",
        "    ax2.patch.set_facecolor('white')\n",
        "    for _pc2, _pc3, _marker, _color in zip(pc2, pc3, markers, colors):\n",
        "        ax2.scatter(_pc2, _pc3, marker=_marker, color=_color, s=20)\n",
        "    plt.xlabel('PC2 / 1000')\n",
        "    plt.ylabel('PC3 / 1000')\n",
        "\n",
        "    ax3 = fig.add_subplot(133)\n",
        "    ax3.patch.set_facecolor('white')\n",
        "    for _pc3, _pc1, _marker, _color in zip(pc3, pc1, markers, colors):\n",
        "        ax3.scatter(_pc3, _pc1, marker=_marker, color=_color, s=20)\n",
        "    plt.xlabel('PC3 / 1000')\n",
        "    plt.ylabel('PC1 / 1000')\n",
        "    \n",
        "    fig.tight_layout(rect=[0, 0.03, 1, 0.95])"
      ],
      "execution_count": 0,
      "outputs": []
    },
    {
      "cell_type": "code",
      "metadata": {
        "id": "yKIerh8UXlVq",
        "colab_type": "code",
        "outputId": "db999d51-c944-4982-ac6a-3ee5e5dfa574",
        "colab": {
          "base_uri": "https://localhost:8080/",
          "height": 354
        }
      },
      "source": [
        "scorePlots(pc1_1, pc2_1, pc3_1, markers1, colors1)"
      ],
      "execution_count": 0,
      "outputs": [
        {
          "output_type": "display_data",
          "data": {
            "image/png": "[encoded data removed]",
            "text/plain": [
              "<Figure size 720x360 with 3 Axes>"
            ]
          },
          "metadata": {
            "tags": []
          }
        }
      ]
    },
    {
      "cell_type": "markdown",
      "metadata": {
        "id": "hSxogIo5W4JY",
        "colab_type": "text"
      },
      "source": [
        "To see what is outliers data, now we using the colors to color the data point for each subject"
      ]
    },
    {
      "cell_type": "code",
      "metadata": {
        "id": "dl0gPlleYKKJ",
        "colab_type": "code",
        "outputId": "571d32f6-52b5-4c61-d8d4-6bb595940b5e",
        "colab": {
          "base_uri": "https://localhost:8080/",
          "height": 354
        }
      },
      "source": [
        "col = [\n",
        "    'black', # Student no 1\n",
        "    'cyan', \n",
        "    'chartreuse', \n",
        "    'teal', \n",
        "    'khaki', \n",
        "    'red', \n",
        "    'violet', # Student no 7\n",
        "    'yellow', \n",
        "    'orange', \n",
        "    'darkblue' # Student no 10\n",
        "]\n",
        "\n",
        "colors2 = [_col for _col in col for j in range(10)]\n",
        "markers2 = [\"x\" if int(student_confused) == 1 else \"o\" for student_confused in y_train]\n",
        "\n",
        "scorePlots(pc1_1, pc2_1, pc3_1, markers2, colors2)"
      ],
      "execution_count": 0,
      "outputs": [
        {
          "output_type": "display_data",
          "data": {
            "image/png": "[encoded data removed]",
            "text/plain": [
              "<Figure size 720x360 with 3 Axes>"
            ]
          },
          "metadata": {
            "tags": []
          }
        }
      ]
    },
    {
      "cell_type": "markdown",
      "metadata": {
        "id": "6JQglI7GXLc9",
        "colab_type": "text"
      },
      "source": [
        "From screeplot we can see the stundent number 7 is outliers. So we need to remove that student from analysis"
      ]
    },
    {
      "cell_type": "code",
      "metadata": {
        "id": "DybLt_SNXKlu",
        "colab_type": "code",
        "outputId": "2af7d6c6-f6e7-4f3e-8340-488b97c4dc25",
        "colab": {
          "base_uri": "https://localhost:8080/",
          "height": 35
        }
      },
      "source": [
        "X1 = X.drop(6, level='Subject')\n",
        "y = y.drop(6, level='Subject')\n",
        "X1.shape"
      ],
      "execution_count": 0,
      "outputs": [
        {
          "output_type": "execute_result",
          "data": {
            "text/plain": [
              "(90, 13)"
            ]
          },
          "metadata": {
            "tags": []
          },
          "execution_count": 39
        }
      ]
    },
    {
      "cell_type": "code",
      "metadata": {
        "id": "ckth74lzbc-O",
        "colab_type": "code",
        "outputId": "3c38e518-37e5-4bef-addb-4f1a326ceb95",
        "colab": {
          "base_uri": "https://localhost:8080/",
          "height": 354
        }
      },
      "source": [
        "pca2 = PCA(n_components=13)\n",
        "X_trans2 = pca2.fit_transform(X1)\n",
        "\n",
        "#Redefine PC's\n",
        "pc1_2 = X_trans2[:, 0] / 1000\n",
        "pc2_2 = X_trans2[:, 1] / 1000\n",
        "pc3_2 = X_trans2[:, 2] / 1000\n",
        "\n",
        "#Call plotting function\n",
        "scorePlots(pc1_2, pc2_2, pc3_2, markers1, colors1)"
      ],
      "execution_count": 0,
      "outputs": [
        {
          "output_type": "display_data",
          "data": {
            "image/png": "[encoded data removed]",
            "text/plain": [
              "<Figure size 720x360 with 3 Axes>"
            ]
          },
          "metadata": {
            "tags": []
          }
        }
      ]
    },
    {
      "cell_type": "markdown",
      "metadata": {
        "id": "9Q2J1d_XcooB",
        "colab_type": "text"
      },
      "source": [
        "# Classification with PCA"
      ]
    },
    {
      "cell_type": "code",
      "metadata": {
        "id": "AqcKJCiwcKm7",
        "colab_type": "code",
        "colab": {}
      },
      "source": [
        "nb_pca = GaussianNB()\n",
        "knn_pca = KNeighborsClassifier(n_neighbors=2)\n",
        "\n",
        "kmeans_pca = KMeans(n_clusters=7)\n",
        "gmm_pca = GaussianMixture(n_components=7)"
      ],
      "execution_count": 0,
      "outputs": []
    },
    {
      "cell_type": "code",
      "metadata": {
        "id": "VFTfzfS7dhRv",
        "colab_type": "code",
        "colab": {}
      },
      "source": [
        "from sklearn.model_selection import train_test_split\n",
        "x_train, x_test, y_train_, y_test_ = train_test_split(X_trans2, y, test_size=0.2, random_state=42)"
      ],
      "execution_count": 0,
      "outputs": []
    },
    {
      "cell_type": "markdown",
      "metadata": {
        "id": "UXEztsvudp58",
        "colab_type": "text"
      },
      "source": [
        "Naive Bayes"
      ]
    },
    {
      "cell_type": "code",
      "metadata": {
        "id": "JoHAD1sAdpMs",
        "colab_type": "code",
        "outputId": "8c51defe-93e4-464b-a6cd-dbffa5033fdf",
        "colab": {
          "base_uri": "https://localhost:8080/",
          "height": 54
        }
      },
      "source": [
        "nb_pca.fit(x_train, y_train_)\n",
        "nb_pred_pca = nb_pca.predict(x_train)\n",
        "nb_acc_pca = accuracy_score(y_train_, nb_pred_pca)\n",
        "print('Number of accuracy')\n",
        "nb_acc_pca"
      ],
      "execution_count": 0,
      "outputs": [
        {
          "output_type": "stream",
          "text": [
            "Number of accuracy\n"
          ],
          "name": "stdout"
        },
        {
          "output_type": "execute_result",
          "data": {
            "text/plain": [
              "0.6666666666666666"
            ]
          },
          "metadata": {
            "tags": []
          },
          "execution_count": 43
        }
      ]
    },
    {
      "cell_type": "code",
      "metadata": {
        "id": "FEgjJN-ZeRSo",
        "colab_type": "code",
        "outputId": "75b85942-2c4c-454d-cb96-ecddfabfd7ec",
        "colab": {
          "base_uri": "https://localhost:8080/",
          "height": 54
        }
      },
      "source": [
        "nb_test_pca = nb_pca.predict(x_test)\n",
        "acc_nb_pca = accuracy_score(y_test_, nb_test_pca)\n",
        "print('Number of accuracy')\n",
        "acc_nb_pca"
      ],
      "execution_count": 0,
      "outputs": [
        {
          "output_type": "stream",
          "text": [
            "Number of accuracy\n"
          ],
          "name": "stdout"
        },
        {
          "output_type": "execute_result",
          "data": {
            "text/plain": [
              "0.5555555555555556"
            ]
          },
          "metadata": {
            "tags": []
          },
          "execution_count": 44
        }
      ]
    },
    {
      "cell_type": "markdown",
      "metadata": {
        "id": "QyygoF4heqlj",
        "colab_type": "text"
      },
      "source": [
        "  KNN"
      ]
    },
    {
      "cell_type": "code",
      "metadata": {
        "id": "dZFjDgWRepqh",
        "colab_type": "code",
        "outputId": "cf3a8e61-9534-489c-b7d4-92b3ded2ce0f",
        "colab": {
          "base_uri": "https://localhost:8080/",
          "height": 54
        }
      },
      "source": [
        "knn_pca.fit(x_train, y_train_)\n",
        "knn_pred_pca = knn_pca.predict(x_train)\n",
        "knn_acc_pca = accuracy_score(y_train_, knn_pred_pca)\n",
        "print('Number of accuracy')\n",
        "knn_acc_pca"
      ],
      "execution_count": 0,
      "outputs": [
        {
          "output_type": "stream",
          "text": [
            "Number of accuracy\n"
          ],
          "name": "stdout"
        },
        {
          "output_type": "execute_result",
          "data": {
            "text/plain": [
              "0.8194444444444444"
            ]
          },
          "metadata": {
            "tags": []
          },
          "execution_count": 45
        }
      ]
    },
    {
      "cell_type": "code",
      "metadata": {
        "id": "ak40C3yMe6NO",
        "colab_type": "code",
        "outputId": "1361ec0e-529b-45a6-b724-2526041a67ff",
        "colab": {
          "base_uri": "https://localhost:8080/",
          "height": 54
        }
      },
      "source": [
        "knn_test_pca = knn_pca.predict(x_test)\n",
        "acc_knn_pca = accuracy_score(y_test_, knn_test_pca)\n",
        "print('Number of accuracy')\n",
        "acc_knn_pca"
      ],
      "execution_count": 0,
      "outputs": [
        {
          "output_type": "stream",
          "text": [
            "Number of accuracy\n"
          ],
          "name": "stdout"
        },
        {
          "output_type": "execute_result",
          "data": {
            "text/plain": [
              "0.7222222222222222"
            ]
          },
          "metadata": {
            "tags": []
          },
          "execution_count": 46
        }
      ]
    },
    {
      "cell_type": "markdown",
      "metadata": {
        "id": "A3B2w2Ve7Jg2",
        "colab_type": "text"
      },
      "source": [
        "Support Vector Machine"
      ]
    },
    {
      "cell_type": "code",
      "metadata": {
        "id": "Gry7syu86kKA",
        "colab_type": "code",
        "outputId": "19228fc8-dd79-44ce-850c-3c4deb2cbb65",
        "colab": {
          "base_uri": "https://localhost:8080/",
          "height": 54
        }
      },
      "source": [
        "svm_pca = SVC(gamma='auto')\n",
        "svm_pca.fit(x_train, y_train_)\n",
        "svm_pred_pca = svm_pca.predict(x_train)\n",
        "svm_acc_pca = accuracy_score(y_train_, svm_pred_pca)\n",
        "print('Number of accuracy')\n",
        "svm_acc_pca"
      ],
      "execution_count": 0,
      "outputs": [
        {
          "output_type": "stream",
          "text": [
            "Number of accuracy\n"
          ],
          "name": "stdout"
        },
        {
          "output_type": "execute_result",
          "data": {
            "text/plain": [
              "1.0"
            ]
          },
          "metadata": {
            "tags": []
          },
          "execution_count": 47
        }
      ]
    },
    {
      "cell_type": "code",
      "metadata": {
        "id": "G2c_-XOd7v4o",
        "colab_type": "code",
        "outputId": "127ea0d9-8fd5-48d4-8986-89778c624da9",
        "colab": {
          "base_uri": "https://localhost:8080/",
          "height": 54
        }
      },
      "source": [
        "svm_test= svm.predict(x_test)\n",
        "acc_svm = accuracy_score(y_test_, svm_test)\n",
        "print('Number of accuracy')\n",
        "acc_svm"
      ],
      "execution_count": 0,
      "outputs": [
        {
          "output_type": "stream",
          "text": [
            "Number of accuracy\n"
          ],
          "name": "stdout"
        },
        {
          "output_type": "execute_result",
          "data": {
            "text/plain": [
              "0.3333333333333333"
            ]
          },
          "metadata": {
            "tags": []
          },
          "execution_count": 48
        }
      ]
    },
    {
      "cell_type": "markdown",
      "metadata": {
        "id": "KPPIclz7fEqE",
        "colab_type": "text"
      },
      "source": [
        "# Clustering with PCA"
      ]
    },
    {
      "cell_type": "code",
      "metadata": {
        "id": "oargwn8VMKXv",
        "colab_type": "code",
        "colab": {}
      },
      "source": [
        "x_train_ = pca2.inverse_transform(x_train)"
      ],
      "execution_count": 0,
      "outputs": []
    },
    {
      "cell_type": "code",
      "metadata": {
        "id": "YM-BXtNtfgma",
        "colab_type": "code",
        "colab": {}
      },
      "source": [
        "kmeans_clus_pca = kmeans_pca.fit_predict(x_train, y_train_)"
      ],
      "execution_count": 0,
      "outputs": []
    },
    {
      "cell_type": "code",
      "metadata": {
        "id": "VVQXJMWvkzRg",
        "colab_type": "code",
        "outputId": "3d868258-f775-4391-a1ac-c412d4678a98",
        "colab": {
          "base_uri": "https://localhost:8080/",
          "height": 90
        }
      },
      "source": [
        "kmeans_clus_pca"
      ],
      "execution_count": 0,
      "outputs": [
        {
          "output_type": "execute_result",
          "data": {
            "text/plain": [
              "array([0, 0, 2, 0, 1, 1, 2, 5, 5, 5, 5, 4, 2, 5, 4, 5, 5, 0, 0, 4, 5, 4,\n",
              "       3, 0, 1, 3, 4, 1, 3, 2, 5, 6, 1, 6, 6, 5, 1, 4, 1, 2, 5, 5, 0, 6,\n",
              "       1, 0, 2, 5, 1, 0, 4, 2, 2, 4, 5, 1, 6, 1, 3, 6, 1, 3, 2, 3, 1, 4,\n",
              "       1, 3, 2, 2, 5, 1], dtype=int32)"
            ]
          },
          "metadata": {
            "tags": []
          },
          "execution_count": 51
        }
      ]
    },
    {
      "cell_type": "markdown",
      "metadata": {
        "id": "SUplvmizpYVc",
        "colab_type": "text"
      },
      "source": [
        "We tried to clustering the data with 2 classes using K-means"
      ]
    },
    {
      "cell_type": "code",
      "metadata": {
        "id": "hBA2G0zBlE0g",
        "colab_type": "code",
        "outputId": "16b5bc46-4669-43ec-dbdd-73bfa502b521",
        "colab": {
          "base_uri": "https://localhost:8080/",
          "height": 54
        }
      },
      "source": [
        "kmeans_pca_ = KMeans(n_clusters=2)\n",
        "kmeans_pca_.fit(x_train, y_train_)\n",
        "kmeans_pred_pca = kmeans_pca_.predict(x_train)\n",
        "kmeans_acc_pca = accuracy_score(y_train_, kmeans_pred_pca)\n",
        "print('Number of accuracy')\n",
        "kmeans_acc_pca"
      ],
      "execution_count": 0,
      "outputs": [
        {
          "output_type": "stream",
          "text": [
            "Number of accuracy\n"
          ],
          "name": "stdout"
        },
        {
          "output_type": "execute_result",
          "data": {
            "text/plain": [
              "0.5972222222222222"
            ]
          },
          "metadata": {
            "tags": []
          },
          "execution_count": 52
        }
      ]
    },
    {
      "cell_type": "code",
      "metadata": {
        "id": "m0PRClu6opKv",
        "colab_type": "code",
        "outputId": "bf99f5fe-0359-4ced-9db7-eeae6d0d605b",
        "colab": {
          "base_uri": "https://localhost:8080/",
          "height": 54
        }
      },
      "source": [
        "kmeans_test_pca= kmeans_pca_.predict(x_test)\n",
        "acc_kmeans_pca = accuracy_score(y_test_, kmeans_test_pca)\n",
        "print('Number of accuracy')\n",
        "acc_kmeans_pca"
      ],
      "execution_count": 0,
      "outputs": [
        {
          "output_type": "stream",
          "text": [
            "Number of accuracy\n"
          ],
          "name": "stdout"
        },
        {
          "output_type": "execute_result",
          "data": {
            "text/plain": [
              "0.7222222222222222"
            ]
          },
          "metadata": {
            "tags": []
          },
          "execution_count": 53
        }
      ]
    },
    {
      "cell_type": "markdown",
      "metadata": {
        "id": "zP9YdpcfpijU",
        "colab_type": "text"
      },
      "source": [
        "Gaussian Mixture Model"
      ]
    },
    {
      "cell_type": "code",
      "metadata": {
        "id": "UvAsiGUrpovd",
        "colab_type": "code",
        "outputId": "4fbdfa9d-10d2-4921-e18a-032e3470c913",
        "colab": {
          "base_uri": "https://localhost:8080/",
          "height": 90
        }
      },
      "source": [
        "gmm_clus_pca = gmm_pca.fit_predict(x_train, y_train_)\n",
        "gmm_clus_pca"
      ],
      "execution_count": 0,
      "outputs": [
        {
          "output_type": "execute_result",
          "data": {
            "text/plain": [
              "array([5, 5, 3, 5, 1, 1, 3, 2, 2, 2, 2, 4, 3, 2, 4, 2, 2, 5, 5, 4, 2, 4,\n",
              "       0, 5, 1, 0, 4, 1, 6, 3, 2, 1, 1, 3, 1, 2, 4, 4, 1, 3, 2, 2, 5, 1,\n",
              "       1, 5, 3, 2, 1, 5, 4, 3, 3, 4, 2, 1, 1, 1, 6, 3, 1, 6, 3, 6, 1, 4,\n",
              "       1, 6, 3, 3, 2, 1])"
            ]
          },
          "metadata": {
            "tags": []
          },
          "execution_count": 54
        }
      ]
    },
    {
      "cell_type": "code",
      "metadata": {
        "id": "RKjJKmf4NfdL",
        "colab_type": "code",
        "outputId": "a379726a-2010-4425-b062-504f3d385007",
        "colab": {
          "base_uri": "https://localhost:8080/",
          "height": 437
        }
      },
      "source": [
        "fig, ax = plt.subplots(figsize=(12,6))\n",
        "cluster_data2.groupby(['Video','cluster_gmm']).count()['Raw'].unstack().plot(ax=ax)\n",
        "ax.set_xlabel('Video ID')\n",
        "ax.set_ylabel('Raw Signal')"
      ],
      "execution_count": 0,
      "outputs": [
        {
          "output_type": "execute_result",
          "data": {
            "text/plain": [
              "Text(0, 0.5, 'Raw Signal')"
            ]
          },
          "metadata": {
            "tags": []
          },
          "execution_count": 56
        },
        {
          "output_type": "display_data",
          "data": {
            "image/png": "[encoded data removed]",
            "text/plain": [
              "<Figure size 864x432 with 1 Axes>"
            ]
          },
          "metadata": {
            "tags": []
          }
        }
      ]
    },
    {
      "cell_type": "code",
      "metadata": {
        "id": "Z3BgQB7xqe8W",
        "colab_type": "code",
        "outputId": "7637c983-cb3c-4980-9b8a-351942c8c368",
        "colab": {
          "base_uri": "https://localhost:8080/",
          "height": 90
        }
      },
      "source": [
        "gmm_pca_ = GaussianMixture(n_components=2)\n",
        "gmm_pca_.fit(x_train, y_train_)"
      ],
      "execution_count": 0,
      "outputs": [
        {
          "output_type": "execute_result",
          "data": {
            "text/plain": [
              "GaussianMixture(covariance_type='full', init_params='kmeans', max_iter=100,\n",
              "                means_init=None, n_components=2, n_init=1, precisions_init=None,\n",
              "                random_state=None, reg_covar=1e-06, tol=0.001, verbose=0,\n",
              "                verbose_interval=10, warm_start=False, weights_init=None)"
            ]
          },
          "metadata": {
            "tags": []
          },
          "execution_count": 57
        }
      ]
    },
    {
      "cell_type": "code",
      "metadata": {
        "id": "-3OfRHl4rLxz",
        "colab_type": "code",
        "outputId": "0593b2d6-1424-46fe-be41-6f1e3fbcb858",
        "colab": {
          "base_uri": "https://localhost:8080/",
          "height": 54
        }
      },
      "source": [
        "gmm_pred_pca = gmm_pca_.predict(x_train)\n",
        "gmm_acc_pca = accuracy_score(y_train_, gmm_pred_pca)\n",
        "print('Number of accuracy')\n",
        "gmm_acc_pca"
      ],
      "execution_count": 0,
      "outputs": [
        {
          "output_type": "stream",
          "text": [
            "Number of accuracy\n"
          ],
          "name": "stdout"
        },
        {
          "output_type": "execute_result",
          "data": {
            "text/plain": [
              "0.4027777777777778"
            ]
          },
          "metadata": {
            "tags": []
          },
          "execution_count": 58
        }
      ]
    },
    {
      "cell_type": "code",
      "metadata": {
        "id": "_PXlKmV-rXLV",
        "colab_type": "code",
        "outputId": "65c28012-f2f4-4ba7-a129-8afd160943a2",
        "colab": {
          "base_uri": "https://localhost:8080/",
          "height": 54
        }
      },
      "source": [
        "gmm_test_pca= gmm_pca_.predict(x_test)\n",
        "acc_gmm_pca = accuracy_score(y_test_, gmm_test_pca)\n",
        "print('Number of accuracy')\n",
        "acc_gmm_pca"
      ],
      "execution_count": 0,
      "outputs": [
        {
          "output_type": "stream",
          "text": [
            "Number of accuracy\n"
          ],
          "name": "stdout"
        },
        {
          "output_type": "execute_result",
          "data": {
            "text/plain": [
              "0.4444444444444444"
            ]
          },
          "metadata": {
            "tags": []
          },
          "execution_count": 59
        }
      ]
    }
  ]
}